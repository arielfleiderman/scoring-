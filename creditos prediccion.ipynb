{
 "cells": [
  {
   "cell_type": "code",
   "execution_count": 1,
   "metadata": {},
   "outputs": [],
   "source": [
    "from sklearn.preprocessing import StandardScaler\n",
    "from sklearn.model_selection import train_test_split\n",
    "import pandas as pd \n",
    "import numpy as np\n",
    "import seaborn as sns\n",
    "from matplotlib import pyplot as plt\n",
    "import xgboost as xgb\n",
    "from datetime import datetime\n",
    "import xgboost as xgb  #Libreria de algoriitmo de boosting, sive para hacer la prediccion\n",
    "from sklearn.metrics import classification_report, confusion_matrix \n",
    "import pandas as pd               #Manejo de Datos\n",
    "import numpy as np                #Calculo numerico\n",
    "import seaborn as sns             #Libreria de Visualizaciones\n",
    "import matplotlib.pyplot as plt   #Libreria de Visualizaciones"
   ]
  },
  {
   "cell_type": "code",
   "execution_count": 2,
   "metadata": {},
   "outputs": [],
   "source": [
    "ipath = 'C:/Users/Ariel Fleiderman/Downloads/credito1.xlsx'\n",
    "df1 = pd.read_excel(ipath)"
   ]
  },
  {
   "cell_type": "code",
   "execution_count": 3,
   "metadata": {},
   "outputs": [],
   "source": [
    "ipath = 'C:/Users/Ariel Fleiderman/Downloads/clientes2.xlsx'\n",
    "df2 = pd.read_excel(ipath)\n"
   ]
  },
  {
   "cell_type": "code",
   "execution_count": 4,
   "metadata": {},
   "outputs": [],
   "source": [
    "ipath = 'C:/Users/Ariel Fleiderman/Downloads/credito3.xlsx'\n",
    "df3 = pd.read_excel(ipath)"
   ]
  },
  {
   "cell_type": "code",
   "execution_count": 5,
   "metadata": {},
   "outputs": [],
   "source": [
    "data = pd.concat([df1, df2, df3], axis=0)"
   ]
  },
  {
   "cell_type": "code",
   "execution_count": 6,
   "metadata": {},
   "outputs": [
    {
     "data": {
      "text/plain": [
       "(72447, 42)"
      ]
     },
     "execution_count": 6,
     "metadata": {},
     "output_type": "execute_result"
    }
   ],
   "source": [
    "data.shape"
   ]
  },
  {
   "cell_type": "code",
   "execution_count": 98,
   "metadata": {},
   "outputs": [
    {
     "data": {
      "text/html": [
       "<div>\n",
       "<style scoped>\n",
       "    .dataframe tbody tr th:only-of-type {\n",
       "        vertical-align: middle;\n",
       "    }\n",
       "\n",
       "    .dataframe tbody tr th {\n",
       "        vertical-align: top;\n",
       "    }\n",
       "\n",
       "    .dataframe thead th {\n",
       "        text-align: right;\n",
       "    }\n",
       "</style>\n",
       "<table border=\"1\" class=\"dataframe\">\n",
       "  <thead>\n",
       "    <tr style=\"text-align: right;\">\n",
       "      <th></th>\n",
       "      <th>ID</th>\n",
       "      <th>DNI</th>\n",
       "      <th>CUIT</th>\n",
       "      <th>Nombre completo</th>\n",
       "      <th>Fecha de nacimiento</th>\n",
       "      <th>Clase</th>\n",
       "      <th>Edad</th>\n",
       "      <th>Sexo</th>\n",
       "      <th>Comportamiento 1</th>\n",
       "      <th>Comportamiento 2</th>\n",
       "      <th>...</th>\n",
       "      <th>Periodo 4</th>\n",
       "      <th>Monto 4</th>\n",
       "      <th>Banco 5</th>\n",
       "      <th>Sit 5</th>\n",
       "      <th>Periodo 5</th>\n",
       "      <th>Monto 5</th>\n",
       "      <th>Banco 6</th>\n",
       "      <th>Sit 6</th>\n",
       "      <th>Periodo 6</th>\n",
       "      <th>Monto 6</th>\n",
       "    </tr>\n",
       "  </thead>\n",
       "  <tbody>\n",
       "  </tbody>\n",
       "</table>\n",
       "<p>0 rows × 42 columns</p>\n",
       "</div>"
      ],
      "text/plain": [
       "Empty DataFrame\n",
       "Columns: [ID, DNI, CUIT, Nombre completo, Fecha de nacimiento, Clase, Edad, Sexo, Comportamiento 1, Comportamiento 2, Comportamiento 3, Comportamiento 4, Comportamiento 5, Comportamiento 6, Comportamiento 7, Comportamiento 8, Comportamiento 9, Comportamiento 10, Banco 1, Sit 1, Periodo 1, Monto 1, Banco 2, Sit 2, Periodo 2, Monto 2, Banco 3, Sit 3, Periodo 3, Monto 3, Banco 4, Sit 4, Periodo 4, Monto 4, Banco 5, Sit 5, Periodo 5, Monto 5, Banco 6, Sit 6, Periodo 6, Monto 6]\n",
       "Index: []\n",
       "\n",
       "[0 rows x 42 columns]"
      ]
     },
     "execution_count": 98,
     "metadata": {},
     "output_type": "execute_result"
    }
   ],
   "source": [
    "data[data.duplicated(keep=False)]"
   ]
  },
  {
   "cell_type": "code",
   "execution_count": 99,
   "metadata": {},
   "outputs": [
    {
     "name": "stdout",
     "output_type": "stream",
     "text": [
      "<class 'pandas.core.frame.DataFrame'>\n",
      "Int64Index: 72447 entries, 0 to 19175\n",
      "Data columns (total 42 columns):\n",
      " #   Column               Non-Null Count  Dtype  \n",
      "---  ------               --------------  -----  \n",
      " 0   ID                   72447 non-null  int64  \n",
      " 1   DNI                  72447 non-null  int64  \n",
      " 2   CUIT                 72447 non-null  int64  \n",
      " 3   Nombre completo      72447 non-null  object \n",
      " 4   Fecha de nacimiento  72019 non-null  object \n",
      " 5   Clase                72408 non-null  float64\n",
      " 6   Edad                 72017 non-null  float64\n",
      " 7   Sexo                 72431 non-null  object \n",
      " 8   Comportamiento 1     71740 non-null  object \n",
      " 9   Comportamiento 2     52845 non-null  object \n",
      " 10  Comportamiento 3     37638 non-null  object \n",
      " 11  Comportamiento 4     25377 non-null  object \n",
      " 12  Comportamiento 5     16311 non-null  object \n",
      " 13  Comportamiento 6     10064 non-null  object \n",
      " 14  Comportamiento 7     6023 non-null   object \n",
      " 15  Comportamiento 8     3507 non-null   object \n",
      " 16  Comportamiento 9     2033 non-null   object \n",
      " 17  Comportamiento 10    1220 non-null   object \n",
      " 18  Banco 1              72447 non-null  object \n",
      " 19  Sit 1                72447 non-null  int64  \n",
      " 20  Periodo 1            72447 non-null  object \n",
      " 21  Monto 1              72444 non-null  float64\n",
      " 22  Banco 2              44755 non-null  object \n",
      " 23  Sit 2                44755 non-null  float64\n",
      " 24  Periodo 2            44755 non-null  object \n",
      " 25  Monto 2              44754 non-null  float64\n",
      " 26  Banco 3              26068 non-null  object \n",
      " 27  Sit 3                26068 non-null  float64\n",
      " 28  Periodo 3            26068 non-null  object \n",
      " 29  Monto 3              26068 non-null  float64\n",
      " 30  Banco 4              14004 non-null  object \n",
      " 31  Sit 4                14004 non-null  float64\n",
      " 32  Periodo 4            14004 non-null  object \n",
      " 33  Monto 4              14004 non-null  float64\n",
      " 34  Banco 5              7101 non-null   object \n",
      " 35  Sit 5                7101 non-null   float64\n",
      " 36  Periodo 5            7101 non-null   object \n",
      " 37  Monto 5              7101 non-null   float64\n",
      " 38  Banco 6              3413 non-null   object \n",
      " 39  Sit 6                3413 non-null   float64\n",
      " 40  Periodo 6            3465 non-null   object \n",
      " 41  Monto 6              3465 non-null   float64\n",
      "dtypes: float64(13), int64(4), object(25)\n",
      "memory usage: 23.8+ MB\n"
     ]
    }
   ],
   "source": [
    "data.info()"
   ]
  },
  {
   "cell_type": "code",
   "execution_count": 100,
   "metadata": {},
   "outputs": [
    {
     "name": "stdout",
     "output_type": "stream",
     "text": [
      "Fecha de nacimiento 428\n",
      "Clase 39\n",
      "Edad 430\n",
      "Sexo 16\n",
      "Comportamiento 1 707\n",
      "Comportamiento 2 19602\n",
      "Comportamiento 3 34809\n",
      "Comportamiento 4 47070\n",
      "Comportamiento 5 56136\n",
      "Comportamiento 6 62383\n",
      "Comportamiento 7 66424\n",
      "Comportamiento 8 68940\n",
      "Comportamiento 9 70414\n",
      "Comportamiento 10 71227\n",
      "Monto 1 3\n",
      "Banco 2 27692\n",
      "Sit 2 27692\n",
      "Periodo 2 27692\n",
      "Monto 2 27693\n",
      "Banco 3 46379\n",
      "Sit 3 46379\n",
      "Periodo 3 46379\n",
      "Monto 3 46379\n",
      "Banco 4 58443\n",
      "Sit 4 58443\n",
      "Periodo 4 58443\n",
      "Monto 4 58443\n",
      "Banco 5 65346\n",
      "Sit 5 65346\n",
      "Periodo 5 65346\n",
      "Monto 5 65346\n",
      "Banco 6 69034\n",
      "Sit 6 69034\n",
      "Periodo 6 68982\n",
      "Monto 6 68982\n"
     ]
    }
   ],
   "source": [
    "nullColumns = []    #Lista que contendrá las columnas con valores Nulos\n",
    "for column in data.columns:\n",
    "    if data[column].isnull().sum() > 0:\n",
    "        print(column, data[column].isnull().sum())\n",
    "        nullColumns.append(column)"
   ]
  },
  {
   "cell_type": "code",
   "execution_count": 101,
   "metadata": {},
   "outputs": [],
   "source": [
    "to_remove = (['Clase','DNI','CUIT','Nombre completo','Fecha de nacimiento'] + [x for x in data.columns if 'Comportamiento ' in x]+ [x for x in data.columns if 'Banco ' in x]+ [x for x in data.columns if 'Periodo ' in x])"
   ]
  },
  {
   "cell_type": "code",
   "execution_count": 102,
   "metadata": {},
   "outputs": [],
   "source": [
    "data.drop(columns = to_remove, inplace=True)"
   ]
  },
  {
   "cell_type": "code",
   "execution_count": 103,
   "metadata": {},
   "outputs": [],
   "source": [
    "data.fillna(0, inplace=True)"
   ]
  },
  {
   "cell_type": "code",
   "execution_count": 104,
   "metadata": {},
   "outputs": [
    {
     "data": {
      "text/plain": [
       "(72447, 15)"
      ]
     },
     "execution_count": 104,
     "metadata": {},
     "output_type": "execute_result"
    }
   ],
   "source": [
    "data.shape"
   ]
  },
  {
   "cell_type": "code",
   "execution_count": 105,
   "metadata": {},
   "outputs": [],
   "source": [
    "data = data.drop(data[data['Edad']<18].index)\n",
    "data = data.drop(data[data['Edad']>75].index)"
   ]
  },
  {
   "cell_type": "code",
   "execution_count": 106,
   "metadata": {},
   "outputs": [],
   "source": [
    "data.loc[(data['Edad'] > 17) & (data['Edad'] < 31), 'Edad'] = 1  \n",
    "data.loc[(data['Edad'] > 30) & (data['Edad'] < 46), 'Edad'] = 2  \n",
    "data.loc[(data['Edad'] > 45) & (data['Edad'] < 61), 'Edad'] = 3  \n",
    "data.loc[(data['Edad'] > 60) & (data['Edad'] < 76), 'Edad'] = 4  \n"
   ]
  },
  {
   "cell_type": "code",
   "execution_count": 107,
   "metadata": {},
   "outputs": [
    {
     "data": {
      "text/html": [
       "<div>\n",
       "<style scoped>\n",
       "    .dataframe tbody tr th:only-of-type {\n",
       "        vertical-align: middle;\n",
       "    }\n",
       "\n",
       "    .dataframe tbody tr th {\n",
       "        vertical-align: top;\n",
       "    }\n",
       "\n",
       "    .dataframe thead th {\n",
       "        text-align: right;\n",
       "    }\n",
       "</style>\n",
       "<table border=\"1\" class=\"dataframe\">\n",
       "  <thead>\n",
       "    <tr style=\"text-align: right;\">\n",
       "      <th></th>\n",
       "      <th>ID</th>\n",
       "      <th>Edad</th>\n",
       "      <th>Sexo</th>\n",
       "      <th>Sit 1</th>\n",
       "      <th>Monto 1</th>\n",
       "      <th>Sit 2</th>\n",
       "      <th>Monto 2</th>\n",
       "      <th>Sit 3</th>\n",
       "      <th>Monto 3</th>\n",
       "      <th>Sit 4</th>\n",
       "      <th>Monto 4</th>\n",
       "      <th>Sit 5</th>\n",
       "      <th>Monto 5</th>\n",
       "      <th>Sit 6</th>\n",
       "      <th>Monto 6</th>\n",
       "    </tr>\n",
       "  </thead>\n",
       "  <tbody>\n",
       "    <tr>\n",
       "      <th>0</th>\n",
       "      <td>1</td>\n",
       "      <td>1.0</td>\n",
       "      <td>M</td>\n",
       "      <td>1</td>\n",
       "      <td>31000.0</td>\n",
       "      <td>1.0</td>\n",
       "      <td>16000.0</td>\n",
       "      <td>4.0</td>\n",
       "      <td>5000.0</td>\n",
       "      <td>1.0</td>\n",
       "      <td>19000.0</td>\n",
       "      <td>1.0</td>\n",
       "      <td>179000.0</td>\n",
       "      <td>1.0</td>\n",
       "      <td>62000.0</td>\n",
       "    </tr>\n",
       "    <tr>\n",
       "      <th>1</th>\n",
       "      <td>2</td>\n",
       "      <td>3.0</td>\n",
       "      <td>M</td>\n",
       "      <td>1</td>\n",
       "      <td>24000.0</td>\n",
       "      <td>1.0</td>\n",
       "      <td>6000.0</td>\n",
       "      <td>4.0</td>\n",
       "      <td>190000.0</td>\n",
       "      <td>1.0</td>\n",
       "      <td>22000.0</td>\n",
       "      <td>1.0</td>\n",
       "      <td>21000.0</td>\n",
       "      <td>1.0</td>\n",
       "      <td>1000.0</td>\n",
       "    </tr>\n",
       "    <tr>\n",
       "      <th>2</th>\n",
       "      <td>3</td>\n",
       "      <td>2.0</td>\n",
       "      <td>M</td>\n",
       "      <td>1</td>\n",
       "      <td>2000.0</td>\n",
       "      <td>1.0</td>\n",
       "      <td>2000.0</td>\n",
       "      <td>4.0</td>\n",
       "      <td>100000.0</td>\n",
       "      <td>1.0</td>\n",
       "      <td>2000.0</td>\n",
       "      <td>1.0</td>\n",
       "      <td>6000.0</td>\n",
       "      <td>1.0</td>\n",
       "      <td>11000.0</td>\n",
       "    </tr>\n",
       "    <tr>\n",
       "      <th>3</th>\n",
       "      <td>4</td>\n",
       "      <td>3.0</td>\n",
       "      <td>F</td>\n",
       "      <td>1</td>\n",
       "      <td>17000.0</td>\n",
       "      <td>1.0</td>\n",
       "      <td>21000.0</td>\n",
       "      <td>4.0</td>\n",
       "      <td>25000.0</td>\n",
       "      <td>1.0</td>\n",
       "      <td>5000.0</td>\n",
       "      <td>1.0</td>\n",
       "      <td>9000.0</td>\n",
       "      <td>1.0</td>\n",
       "      <td>40000.0</td>\n",
       "    </tr>\n",
       "    <tr>\n",
       "      <th>4</th>\n",
       "      <td>5</td>\n",
       "      <td>2.0</td>\n",
       "      <td>F</td>\n",
       "      <td>1</td>\n",
       "      <td>11000.0</td>\n",
       "      <td>1.0</td>\n",
       "      <td>27000.0</td>\n",
       "      <td>4.0</td>\n",
       "      <td>48000.0</td>\n",
       "      <td>1.0</td>\n",
       "      <td>16000.0</td>\n",
       "      <td>1.0</td>\n",
       "      <td>21000.0</td>\n",
       "      <td>1.0</td>\n",
       "      <td>2000.0</td>\n",
       "    </tr>\n",
       "  </tbody>\n",
       "</table>\n",
       "</div>"
      ],
      "text/plain": [
       "   ID  Edad Sexo  Sit 1  Monto 1  Sit 2  Monto 2  Sit 3   Monto 3  Sit 4  \\\n",
       "0   1   1.0    M      1  31000.0    1.0  16000.0    4.0    5000.0    1.0   \n",
       "1   2   3.0    M      1  24000.0    1.0   6000.0    4.0  190000.0    1.0   \n",
       "2   3   2.0    M      1   2000.0    1.0   2000.0    4.0  100000.0    1.0   \n",
       "3   4   3.0    F      1  17000.0    1.0  21000.0    4.0   25000.0    1.0   \n",
       "4   5   2.0    F      1  11000.0    1.0  27000.0    4.0   48000.0    1.0   \n",
       "\n",
       "   Monto 4  Sit 5   Monto 5  Sit 6  Monto 6  \n",
       "0  19000.0    1.0  179000.0    1.0  62000.0  \n",
       "1  22000.0    1.0   21000.0    1.0   1000.0  \n",
       "2   2000.0    1.0    6000.0    1.0  11000.0  \n",
       "3   5000.0    1.0    9000.0    1.0  40000.0  \n",
       "4  16000.0    1.0   21000.0    1.0   2000.0  "
      ]
     },
     "execution_count": 107,
     "metadata": {},
     "output_type": "execute_result"
    }
   ],
   "source": [
    "data.head(\n",
    ")"
   ]
  },
  {
   "cell_type": "code",
   "execution_count": 108,
   "metadata": {},
   "outputs": [
    {
     "data": {
      "text/plain": [
       "2.0    25213\n",
       "3.0    16002\n",
       "1.0    14985\n",
       "4.0     8826\n",
       "Name: Edad, dtype: int64"
      ]
     },
     "execution_count": 108,
     "metadata": {},
     "output_type": "execute_result"
    }
   ],
   "source": [
    "data['Edad'].value_counts()"
   ]
  },
  {
   "cell_type": "code",
   "execution_count": 109,
   "metadata": {},
   "outputs": [
    {
     "data": {
      "text/plain": [
       "4    26587\n",
       "1    16126\n",
       "3    13569\n",
       "2     8744\n",
       "Name: Sit 1, dtype: int64"
      ]
     },
     "execution_count": 109,
     "metadata": {},
     "output_type": "execute_result"
    }
   ],
   "source": [
    "data['Sit 1'].value_counts()"
   ]
  },
  {
   "cell_type": "code",
   "execution_count": 110,
   "metadata": {},
   "outputs": [],
   "source": [
    "data.loc[(data['Monto 1'] > 0) & (data['Monto 1'] < 10001), 'Monto 1'] = 1  \n",
    "data.loc[(data['Monto 1'] > 10000) & (data['Monto 1'] < 20001), 'Monto 1'] = 2  \n",
    "data.loc[(data['Monto 1'] > 20000) & (data['Monto 1'] < 30001), 'Monto 1'] = 3  \n",
    "data.loc[(data['Monto 1'] > 30000) & (data['Monto 1'] < 40001), 'Monto 1'] = 4  \n",
    "data.loc[(data['Monto 1'] > 40000) & (data['Monto 1'] < 50001), 'Monto 1'] = 5  \n",
    "data.loc[(data['Monto 1'] > 50000) & (data['Monto 1'] < 60001), 'Monto 1'] = 6  \n",
    "data.loc[(data['Monto 1'] > 60000) & (data['Monto 1'] < 70001), 'Monto 1'] = 7  \n",
    "data.loc[(data['Monto 1'] > 70000) & (data['Monto 1'] < 80001), 'Monto 1'] = 8 \n",
    "data.loc[(data['Monto 1'] > 80000) & (data['Monto 1'] < 90001), 'Monto 1'] = 9  \n",
    "data.loc[(data['Monto 1'] > 90000) & (data['Monto 1'] < 100001), 'Monto 1'] = 10 \n",
    "data.loc[(data['Monto 1'] > 100000), 'Monto 1'] = 11 \n",
    "\n"
   ]
  },
  {
   "cell_type": "code",
   "execution_count": 111,
   "metadata": {},
   "outputs": [],
   "source": [
    "data.loc[(data['Monto 2'] > 0) & (data['Monto 2'] < 10001), 'Monto 2'] = 1  \n",
    "data.loc[(data['Monto 2'] > 10000) & (data['Monto 2'] < 20001), 'Monto 2'] = 2  \n",
    "data.loc[(data['Monto 2'] > 20000) & (data['Monto 2'] < 30001), 'Monto 2'] = 3  \n",
    "data.loc[(data['Monto 2'] > 30000) & (data['Monto 2'] < 40001), 'Monto 2'] = 4  \n",
    "data.loc[(data['Monto 2'] > 40000) & (data['Monto 2'] < 50001), 'Monto 2'] = 5  \n",
    "data.loc[(data['Monto 2'] > 50000) & (data['Monto 2'] < 60001), 'Monto 2'] = 6  \n",
    "data.loc[(data['Monto 2'] > 60000) & (data['Monto 2'] < 70001), 'Monto 2'] = 7  \n",
    "data.loc[(data['Monto 2'] > 70000) & (data['Monto 2'] < 80001), 'Monto 2'] = 8 \n",
    "data.loc[(data['Monto 2'] > 80000) & (data['Monto 2'] < 90001), 'Monto 2'] = 9  \n",
    "data.loc[(data['Monto 2'] > 90000) & (data['Monto 2'] < 100001), 'Monto 2'] = 10 \n",
    "data.loc[(data['Monto 2'] > 100000), 'Monto 2'] = 11 \n"
   ]
  },
  {
   "cell_type": "code",
   "execution_count": 112,
   "metadata": {},
   "outputs": [],
   "source": [
    "data.loc[(data['Monto 3'] > 0) & (data['Monto 3'] < 10001), 'Monto 3'] = 1  \n",
    "data.loc[(data['Monto 3'] > 10000) & (data['Monto 3'] < 20001), 'Monto 3'] = 2  \n",
    "data.loc[(data['Monto 3'] > 20000) & (data['Monto 3'] < 30001), 'Monto 3'] = 3  \n",
    "data.loc[(data['Monto 3'] > 30000) & (data['Monto 3'] < 40001), 'Monto 3'] = 4  \n",
    "data.loc[(data['Monto 3'] > 40000) & (data['Monto 3'] < 50001), 'Monto 3'] = 5  \n",
    "data.loc[(data['Monto 3'] > 50000) & (data['Monto 3'] < 60001), 'Monto 3'] = 6  \n",
    "data.loc[(data['Monto 3'] > 60000) & (data['Monto 3'] < 70001), 'Monto 3'] = 7  \n",
    "data.loc[(data['Monto 3'] > 70000) & (data['Monto 3'] < 80001), 'Monto 3'] = 8 \n",
    "data.loc[(data['Monto 3'] > 80000) & (data['Monto 3'] < 90001), 'Monto 3'] = 9  \n",
    "data.loc[(data['Monto 3'] > 90000) & (data['Monto 3'] < 100001), 'Monto 3'] = 10 \n",
    "data.loc[(data['Monto 3'] > 100000), 'Monto 3'] = 11 \n"
   ]
  },
  {
   "cell_type": "code",
   "execution_count": 113,
   "metadata": {},
   "outputs": [],
   "source": [
    "data.loc[(data['Monto 4'] > 0) & (data['Monto 4'] < 10001), 'Monto 4'] = 1  \n",
    "data.loc[(data['Monto 4'] > 10000) & (data['Monto 4'] < 20001), 'Monto 4'] = 2  \n",
    "data.loc[(data['Monto 4'] > 20000) & (data['Monto 4'] < 30001), 'Monto 4'] = 3  \n",
    "data.loc[(data['Monto 4'] > 30000) & (data['Monto 4'] < 40001), 'Monto 4'] = 4  \n",
    "data.loc[(data['Monto 4'] > 40000) & (data['Monto 4'] < 50001), 'Monto 4'] = 5  \n",
    "data.loc[(data['Monto 4'] > 50000) & (data['Monto 4'] < 60001), 'Monto 4'] = 6  \n",
    "data.loc[(data['Monto 4'] > 60000) & (data['Monto 4'] < 70001), 'Monto 4'] = 7  \n",
    "data.loc[(data['Monto 4'] > 70000) & (data['Monto 4'] < 80001), 'Monto 4'] = 8 \n",
    "data.loc[(data['Monto 1'] > 80000) & (data['Monto 4'] < 90001), 'Monto 4'] = 9  \n",
    "data.loc[(data['Monto 4'] > 90000) & (data['Monto 4'] < 100001), 'Monto 4'] = 10 \n",
    "data.loc[(data['Monto 4'] > 100000), 'Monto 4'] = 11 \n"
   ]
  },
  {
   "cell_type": "code",
   "execution_count": 114,
   "metadata": {},
   "outputs": [],
   "source": [
    "data.loc[(data['Monto 5'] > 0) & (data['Monto 5'] < 10001), 'Monto 5'] = 1  \n",
    "data.loc[(data['Monto 5'] > 10000) & (data['Monto 5'] < 20001), 'Monto 5'] = 2  \n",
    "data.loc[(data['Monto 5'] > 20000) & (data['Monto 5'] < 30001), 'Monto 5'] = 3  \n",
    "data.loc[(data['Monto 5'] > 30000) & (data['Monto 5'] < 40001), 'Monto 5'] = 4  \n",
    "data.loc[(data['Monto 5'] > 40000) & (data['Monto 5'] < 50001), 'Monto 5'] = 5  \n",
    "data.loc[(data['Monto 5'] > 50000) & (data['Monto 5'] < 60001), 'Monto 5'] = 6  \n",
    "data.loc[(data['Monto 5'] > 60000) & (data['Monto 5'] < 70001), 'Monto 5'] = 7\n",
    "data.loc[(data['Monto 5'] > 70000) & (data['Monto 5'] < 80001), 'Monto 5'] = 8\n",
    "data.loc[(data['Monto 5'] > 80000) & (data['Monto 5'] < 90001), 'Monto 5'] = 9  \n",
    "data.loc[(data['Monto 5'] > 90000) & (data['Monto 5'] < 100001), 'Monto 5'] = 10 \n",
    "data.loc[(data['Monto 5'] > 100000), 'Monto 5'] = 11 \n"
   ]
  },
  {
   "cell_type": "code",
   "execution_count": 115,
   "metadata": {},
   "outputs": [],
   "source": [
    "data.loc[(data['Monto 6'] > 0) & (data['Monto 6'] < 10001), 'Monto 6'] = 1  \n",
    "data.loc[(data['Monto 6'] > 10000) & (data['Monto 6'] < 20001), 'Monto 6'] = 2  \n",
    "data.loc[(data['Monto 6'] > 20000) & (data['Monto 6'] < 30001), 'Monto 6'] = 3  \n",
    "data.loc[(data['Monto 6'] > 30000) & (data['Monto 6'] < 40001), 'Monto 6'] = 4  \n",
    "data.loc[(data['Monto 6'] > 40000) & (data['Monto 6'] < 50001), 'Monto 6'] = 5  \n",
    "data.loc[(data['Monto 6'] > 50000) & (data['Monto 6'] < 60001), 'Monto 6'] = 6  \n",
    "data.loc[(data['Monto 6'] > 60000) & (data['Monto 6'] < 70001), 'Monto 6'] = 7  \n",
    "data.loc[(data['Monto 6'] > 70000) & (data['Monto 6'] < 80001), 'Monto 6'] = 8 \n",
    "data.loc[(data['Monto 6'] > 80000) & (data['Monto 6'] < 90001), 'Monto 6'] = 9  \n",
    "data.loc[(data['Monto 6'] > 90000) & (data['Monto 6'] < 100001), 'Monto 6'] = 10 \n",
    "data.loc[(data['Monto 6'] > 100000), 'Monto 6'] = 11 \n"
   ]
  },
  {
   "cell_type": "code",
   "execution_count": 116,
   "metadata": {},
   "outputs": [],
   "source": [
    "data_filtrado = pd.get_dummies(data['Sexo'], prefix='sex') #Creamos columnas con las subcategorias de 'DEVICE_VENDOR_NAME' y guardamos en nuevo dataframe\n",
    "data = pd.concat([data_filtrado, data], axis=1)                          #Concatenamos los dos dataframes\n",
    "del data_filtrado"
   ]
  },
  {
   "cell_type": "code",
   "execution_count": 117,
   "metadata": {},
   "outputs": [
    {
     "data": {
      "text/html": [
       "<div>\n",
       "<style scoped>\n",
       "    .dataframe tbody tr th:only-of-type {\n",
       "        vertical-align: middle;\n",
       "    }\n",
       "\n",
       "    .dataframe tbody tr th {\n",
       "        vertical-align: top;\n",
       "    }\n",
       "\n",
       "    .dataframe thead th {\n",
       "        text-align: right;\n",
       "    }\n",
       "</style>\n",
       "<table border=\"1\" class=\"dataframe\">\n",
       "  <thead>\n",
       "    <tr style=\"text-align: right;\">\n",
       "      <th></th>\n",
       "      <th>sex_0</th>\n",
       "      <th>sex_C</th>\n",
       "      <th>sex_F</th>\n",
       "      <th>sex_M</th>\n",
       "      <th>ID</th>\n",
       "      <th>Edad</th>\n",
       "      <th>Sexo</th>\n",
       "      <th>Sit 1</th>\n",
       "      <th>Monto 1</th>\n",
       "      <th>Sit 2</th>\n",
       "      <th>Monto 2</th>\n",
       "      <th>Sit 3</th>\n",
       "      <th>Monto 3</th>\n",
       "      <th>Sit 4</th>\n",
       "      <th>Monto 4</th>\n",
       "      <th>Sit 5</th>\n",
       "      <th>Monto 5</th>\n",
       "      <th>Sit 6</th>\n",
       "      <th>Monto 6</th>\n",
       "    </tr>\n",
       "  </thead>\n",
       "  <tbody>\n",
       "    <tr>\n",
       "      <th>0</th>\n",
       "      <td>0</td>\n",
       "      <td>0</td>\n",
       "      <td>0</td>\n",
       "      <td>1</td>\n",
       "      <td>1</td>\n",
       "      <td>1.0</td>\n",
       "      <td>M</td>\n",
       "      <td>1</td>\n",
       "      <td>4.0</td>\n",
       "      <td>1.0</td>\n",
       "      <td>2.0</td>\n",
       "      <td>4.0</td>\n",
       "      <td>1.0</td>\n",
       "      <td>1.0</td>\n",
       "      <td>2.0</td>\n",
       "      <td>1.0</td>\n",
       "      <td>11.0</td>\n",
       "      <td>1.0</td>\n",
       "      <td>7.0</td>\n",
       "    </tr>\n",
       "    <tr>\n",
       "      <th>1</th>\n",
       "      <td>0</td>\n",
       "      <td>0</td>\n",
       "      <td>0</td>\n",
       "      <td>1</td>\n",
       "      <td>2</td>\n",
       "      <td>3.0</td>\n",
       "      <td>M</td>\n",
       "      <td>1</td>\n",
       "      <td>3.0</td>\n",
       "      <td>1.0</td>\n",
       "      <td>1.0</td>\n",
       "      <td>4.0</td>\n",
       "      <td>11.0</td>\n",
       "      <td>1.0</td>\n",
       "      <td>3.0</td>\n",
       "      <td>1.0</td>\n",
       "      <td>3.0</td>\n",
       "      <td>1.0</td>\n",
       "      <td>1.0</td>\n",
       "    </tr>\n",
       "    <tr>\n",
       "      <th>2</th>\n",
       "      <td>0</td>\n",
       "      <td>0</td>\n",
       "      <td>0</td>\n",
       "      <td>1</td>\n",
       "      <td>3</td>\n",
       "      <td>2.0</td>\n",
       "      <td>M</td>\n",
       "      <td>1</td>\n",
       "      <td>1.0</td>\n",
       "      <td>1.0</td>\n",
       "      <td>1.0</td>\n",
       "      <td>4.0</td>\n",
       "      <td>10.0</td>\n",
       "      <td>1.0</td>\n",
       "      <td>1.0</td>\n",
       "      <td>1.0</td>\n",
       "      <td>1.0</td>\n",
       "      <td>1.0</td>\n",
       "      <td>2.0</td>\n",
       "    </tr>\n",
       "    <tr>\n",
       "      <th>3</th>\n",
       "      <td>0</td>\n",
       "      <td>0</td>\n",
       "      <td>1</td>\n",
       "      <td>0</td>\n",
       "      <td>4</td>\n",
       "      <td>3.0</td>\n",
       "      <td>F</td>\n",
       "      <td>1</td>\n",
       "      <td>2.0</td>\n",
       "      <td>1.0</td>\n",
       "      <td>3.0</td>\n",
       "      <td>4.0</td>\n",
       "      <td>3.0</td>\n",
       "      <td>1.0</td>\n",
       "      <td>1.0</td>\n",
       "      <td>1.0</td>\n",
       "      <td>1.0</td>\n",
       "      <td>1.0</td>\n",
       "      <td>4.0</td>\n",
       "    </tr>\n",
       "    <tr>\n",
       "      <th>4</th>\n",
       "      <td>0</td>\n",
       "      <td>0</td>\n",
       "      <td>1</td>\n",
       "      <td>0</td>\n",
       "      <td>5</td>\n",
       "      <td>2.0</td>\n",
       "      <td>F</td>\n",
       "      <td>1</td>\n",
       "      <td>2.0</td>\n",
       "      <td>1.0</td>\n",
       "      <td>3.0</td>\n",
       "      <td>4.0</td>\n",
       "      <td>5.0</td>\n",
       "      <td>1.0</td>\n",
       "      <td>2.0</td>\n",
       "      <td>1.0</td>\n",
       "      <td>3.0</td>\n",
       "      <td>1.0</td>\n",
       "      <td>1.0</td>\n",
       "    </tr>\n",
       "  </tbody>\n",
       "</table>\n",
       "</div>"
      ],
      "text/plain": [
       "   sex_0  sex_C  sex_F  sex_M  ID  Edad Sexo  Sit 1  Monto 1  Sit 2  Monto 2  \\\n",
       "0      0      0      0      1   1   1.0    M      1      4.0    1.0      2.0   \n",
       "1      0      0      0      1   2   3.0    M      1      3.0    1.0      1.0   \n",
       "2      0      0      0      1   3   2.0    M      1      1.0    1.0      1.0   \n",
       "3      0      0      1      0   4   3.0    F      1      2.0    1.0      3.0   \n",
       "4      0      0      1      0   5   2.0    F      1      2.0    1.0      3.0   \n",
       "\n",
       "   Sit 3  Monto 3  Sit 4  Monto 4  Sit 5  Monto 5  Sit 6  Monto 6  \n",
       "0    4.0      1.0    1.0      2.0    1.0     11.0    1.0      7.0  \n",
       "1    4.0     11.0    1.0      3.0    1.0      3.0    1.0      1.0  \n",
       "2    4.0     10.0    1.0      1.0    1.0      1.0    1.0      2.0  \n",
       "3    4.0      3.0    1.0      1.0    1.0      1.0    1.0      4.0  \n",
       "4    4.0      5.0    1.0      2.0    1.0      3.0    1.0      1.0  "
      ]
     },
     "execution_count": 117,
     "metadata": {},
     "output_type": "execute_result"
    }
   ],
   "source": [
    "data.head()"
   ]
  },
  {
   "cell_type": "code",
   "execution_count": 118,
   "metadata": {},
   "outputs": [],
   "source": [
    "data['total_monto'] = data[[\"Monto 1\", \"Monto 2\", \"Monto 3\", \"Monto 4\", \"Monto 5\", \"Monto 6\"]].sum(axis=1)\n",
    "data['scoring_total'] = data[[\"Sit 1\", \"Sit 2\", \"Sit 3\", \"Sit 4\", \"Sit 5\", \"Sit 6\"]].sum(axis=1)"
   ]
  },
  {
   "cell_type": "code",
   "execution_count": 119,
   "metadata": {},
   "outputs": [],
   "source": [
    "data['sit1_1'] = (data['Sit 1']!=0).astype(int)\n",
    "data['sit1_2'] = (data['Sit 2']!=0).astype(int)\n",
    "data['sit1_3'] = (data['Sit 3']!=0).astype(int)\n",
    "data['sit1_4'] = (data['Sit 4']!=0).astype(int)\n",
    "data['sit1_5'] = (data['Sit 5']!=0).astype(int)\n",
    "data['sit1_6'] = (data['Sit 6']!=0).astype(int)\n",
    "data['cantidad_de_bancos'] = data[[\"sit1_1\", \"sit1_2\", \"sit1_3\", \"sit1_4\", \"sit1_5\", \"sit1_6\"]].sum(axis=1)"
   ]
  },
  {
   "cell_type": "code",
   "execution_count": 120,
   "metadata": {},
   "outputs": [],
   "source": [
    "data['total_scoring_promedio'] = data['scoring_total']/data['cantidad_de_bancos']"
   ]
  },
  {
   "cell_type": "code",
   "execution_count": 121,
   "metadata": {},
   "outputs": [],
   "source": [
    "data['monto_credito_prom']= data['total_monto']/data['cantidad_de_bancos']"
   ]
  },
  {
   "cell_type": "code",
   "execution_count": 122,
   "metadata": {},
   "outputs": [],
   "source": [
    "to_remove = (['Sexo','sit1_1','sit1_2','sit1_3','sit1_4','sit1_5','sit1_6'])\n",
    "data.drop(columns = to_remove, inplace=True)"
   ]
  },
  {
   "cell_type": "code",
   "execution_count": 123,
   "metadata": {},
   "outputs": [],
   "source": [
    "data['sit1_1'] = (data['Sit 1']>2).astype(int)\n",
    "data['sit1_2'] = (data['Sit 2']>2).astype(int)\n",
    "data['sit1_3'] = (data['Sit 3']>2).astype(int)\n",
    "data['sit1_4'] = (data['Sit 4']>2).astype(int)\n",
    "data['sit1_5'] = (data['Sit 5']>2).astype(int)\n",
    "data['sit1_6'] = (data['Sit 6']>2).astype(int)\n",
    "data['cantidad_creditos_morosos'] = data[[\"sit1_1\", \"sit1_2\", \"sit1_3\", \"sit1_4\", \"sit1_5\", \"sit1_6\"]].sum(axis=1)"
   ]
  },
  {
   "cell_type": "code",
   "execution_count": 124,
   "metadata": {},
   "outputs": [],
   "source": [
    "to_remove = (['sit1_1','sit1_2','sit1_3','sit1_4','sit1_5','sit1_6'])\n",
    "data.drop(columns = to_remove, inplace=True)"
   ]
  },
  {
   "cell_type": "code",
   "execution_count": 125,
   "metadata": {},
   "outputs": [],
   "source": [
    "data.loc[(data['total_scoring_promedio'] > 0) & (data['total_scoring_promedio'] < 1.1), 'total_scoring_promedio'] = 1  \n",
    "data.loc[(data['total_scoring_promedio'] > 1.1) & (data['total_scoring_promedio'] < 2.1), 'total_scoring_promedio'] = 2  \n",
    "data.loc[(data['total_scoring_promedio'] > 2.1) & (data['total_scoring_promedio'] < 3.1), 'total_scoring_promedio'] = 3  \n",
    "data.loc[(data['total_scoring_promedio'] > 3.1) & (data['total_scoring_promedio'] < 4.1), 'total_scoring_promedio'] = 4  \n"
   ]
  },
  {
   "cell_type": "raw",
   "metadata": {},
   "source": [
    "data.head()"
   ]
  },
  {
   "cell_type": "code",
   "execution_count": 126,
   "metadata": {},
   "outputs": [],
   "source": [
    "data.loc[(data['monto_credito_prom'] > 0) & (data['monto_credito_prom'] < 1.1), 'monto_credito_prom'] = 1  \n",
    "data.loc[(data['monto_credito_prom'] > 1.1) & (data['monto_credito_prom'] < 2.1), 'monto_credito_prom'] = 2  \n",
    "data.loc[(data['monto_credito_prom'] > 2.1) & (data['monto_credito_prom'] < 3.1), 'monto_credito_prom'] = 3  \n",
    "data.loc[(data['monto_credito_prom'] > 3.1) & (data['monto_credito_prom'] < 4.1), 'monto_credito_prom'] = 4  \n",
    "data.loc[(data['monto_credito_prom'] > 4.1) & (data['monto_credito_prom'] < 5.1), 'monto_credito_prom'] = 5  \n",
    "data.loc[(data['monto_credito_prom'] > 5.1) & (data['monto_credito_prom'] < 6.1), 'monto_credito_prom'] = 6  \n",
    "data.loc[(data['monto_credito_prom'] > 6.1) & (data['monto_credito_prom'] < 7.1), 'monto_credito_prom'] = 7  \n",
    "data.loc[(data['monto_credito_prom'] > 7.1) & (data['monto_credito_prom'] < 8.1), 'monto_credito_prom'] = 8 \n",
    "data.loc[(data['monto_credito_prom'] > 8.1) & (data['monto_credito_prom'] < 9.1), 'monto_credito_prom'] = 9  \n",
    "data.loc[(data['monto_credito_prom'] > 9.1) & (data['monto_credito_prom'] < 10.1), 'monto_credito_prom'] = 10 \n",
    "data.loc[(data['monto_credito_prom'] > 10), 'monto_credito_prom'] = 11 "
   ]
  },
  {
   "cell_type": "code",
   "execution_count": 127,
   "metadata": {},
   "outputs": [],
   "source": [
    "data.loc[(data['total_monto'] > 0) & (data['total_monto'] < 1.1), 'total_monto'] = 1  \n",
    "data.loc[(data['total_monto'] > 1.1) & (data['total_monto'] < 2.1), 'total_monto'] = 2  \n",
    "data.loc[(data['total_monto'] > 2.1) & (data['total_monto'] < 3.1), 'total_monto'] = 3  \n",
    "data.loc[(data['total_monto'] > 3.1) & (data['total_monto'] < 4.1), 'total_monto'] = 4  \n",
    "data.loc[(data['total_monto'] > 4.1) & (data['total_monto'] < 5.1), 'total_monto'] = 5  \n",
    "data.loc[(data['total_monto'] > 5.1) & (data['total_monto'] < 6.1), 'total_monto'] = 6  \n",
    "data.loc[(data['total_monto'] > 6.1) & (data['total_monto'] < 7.1), 'total_monto'] = 7  \n",
    "data.loc[(data['total_monto'] > 7.1) & (data['total_monto'] < 8.1), 'total_monto'] = 8 \n",
    "data.loc[(data['total_monto'] > 8.1) & (data['total_monto'] < 9.1), 'total_monto'] = 9  \n",
    "data.loc[(data['total_monto'] > 9.1) & (data['total_monto'] < 10.1), 'total_monto'] = 10 \n",
    "data.loc[(data['total_monto'] > 10), 'total_monto'] = 11 "
   ]
  },
  {
   "cell_type": "code",
   "execution_count": 128,
   "metadata": {},
   "outputs": [
    {
     "data": {
      "text/plain": [
       "count    65026.000000\n",
       "mean         6.120290\n",
       "std          4.018338\n",
       "min          1.000000\n",
       "25%          2.000000\n",
       "50%          5.000000\n",
       "75%         11.000000\n",
       "max         11.000000\n",
       "Name: total_monto, dtype: float64"
      ]
     },
     "execution_count": 128,
     "metadata": {},
     "output_type": "execute_result"
    }
   ],
   "source": [
    "data['total_monto'].describe()"
   ]
  },
  {
   "cell_type": "code",
   "execution_count": 129,
   "metadata": {},
   "outputs": [],
   "source": [
    "data['monto_credito_prom']= data['total_monto']/data['cantidad_de_bancos']"
   ]
  },
  {
   "cell_type": "code",
   "execution_count": 77,
   "metadata": {},
   "outputs": [],
   "source": [
    "#Importación de las librerías de interés\n",
    "import numpy as np                # linear algebra\n",
    "import pandas as pd               # data frames\n",
    "import seaborn as sns             # visualizations\n",
    "import matplotlib.pyplot as plt   # visualizations\n",
    "import scipy.stats                # statistics\n",
    "\n",
    "from scipy.cluster.hierarchy import dendrogram, linkage\n",
    "from scipy.cluster.hierarchy import complete, fcluster #Cluster Jerarquico Completo\n",
    "\n",
    "from sklearn import preprocessing\n",
    "from sklearn.cluster import KMeans\n",
    "from sklearn.decomposition import PCA\n",
    "\n"
   ]
  },
  {
   "cell_type": "code",
   "execution_count": 78,
   "metadata": {},
   "outputs": [],
   "source": [
    "X=data"
   ]
  },
  {
   "cell_type": "code",
   "execution_count": 79,
   "metadata": {},
   "outputs": [
    {
     "data": {
      "image/png": "[encoded data removed]",
      "text/plain": [
       "<Figure size 432x288 with 1 Axes>"
      ]
     },
     "metadata": {
      "needs_background": "light"
     },
     "output_type": "display_data"
    }
   ],
   "source": [
    "Nc = range(1, 20)\n",
    "kmeans = [KMeans(n_clusters=i) for i in Nc]\n",
    "kmeans\n",
    "score = [kmeans[i].fit(X).score(X) for i in range(len(kmeans))]\n",
    "score\n",
    "plt.plot(Nc,score)\n",
    "plt.xlabel('Number of Clusters')\n",
    "plt.ylabel('Score')\n",
    "plt.title('Elbow Curve')\n",
    "plt.show()"
   ]
  },
  {
   "cell_type": "code",
   "execution_count": 80,
   "metadata": {},
   "outputs": [
    {
     "data": {
      "text/plain": [
       "KMeans(init='random', n_clusters=4, random_state=10)"
      ]
     },
     "execution_count": 80,
     "metadata": {},
     "output_type": "execute_result"
    }
   ],
   "source": [
    "from sklearn.cluster import KMeans\n",
    "\n",
    "cluster = 4\n",
    "\n",
    "kmeans = KMeans(n_clusters=cluster, # numero de clusters\n",
    "                init=\"random\", \n",
    "                random_state=10)\n",
    "\n",
    "kmeans.fit(X.values) # entrenamos"
   ]
  },
  {
   "cell_type": "code",
   "execution_count": 81,
   "metadata": {},
   "outputs": [
    {
     "data": {
      "text/plain": [
       "(65026,)"
      ]
     },
     "execution_count": 81,
     "metadata": {},
     "output_type": "execute_result"
    }
   ],
   "source": [
    "kmeans.fit_predict(X.values).shape"
   ]
  },
  {
   "cell_type": "code",
   "execution_count": 82,
   "metadata": {},
   "outputs": [],
   "source": [
    "kmeans = KMeans(n_clusters=4, # numero de clusters\n",
    "                init=\"random\", \n",
    "                random_state=10)\n",
    "\n",
    "X['clusters'] = kmeans.fit_predict(X.values) # entrenamos y predecimos"
   ]
  },
  {
   "cell_type": "code",
   "execution_count": 83,
   "metadata": {},
   "outputs": [
    {
     "data": {
      "text/html": [
       "<div>\n",
       "<style scoped>\n",
       "    .dataframe tbody tr th:only-of-type {\n",
       "        vertical-align: middle;\n",
       "    }\n",
       "\n",
       "    .dataframe tbody tr th {\n",
       "        vertical-align: top;\n",
       "    }\n",
       "\n",
       "    .dataframe thead th {\n",
       "        text-align: right;\n",
       "    }\n",
       "</style>\n",
       "<table border=\"1\" class=\"dataframe\">\n",
       "  <thead>\n",
       "    <tr style=\"text-align: right;\">\n",
       "      <th></th>\n",
       "      <th>sex_0</th>\n",
       "      <th>sex_C</th>\n",
       "      <th>sex_F</th>\n",
       "      <th>sex_M</th>\n",
       "      <th>ID</th>\n",
       "      <th>Edad</th>\n",
       "      <th>Sit 1</th>\n",
       "      <th>Monto 1</th>\n",
       "      <th>Sit 2</th>\n",
       "      <th>Monto 2</th>\n",
       "      <th>...</th>\n",
       "      <th>Monto 5</th>\n",
       "      <th>Sit 6</th>\n",
       "      <th>Monto 6</th>\n",
       "      <th>total_monto</th>\n",
       "      <th>scoring_total</th>\n",
       "      <th>cantidad_de_bancos</th>\n",
       "      <th>total_scoring_promedio</th>\n",
       "      <th>monto_credito_prom</th>\n",
       "      <th>cantidad_creditos_morosos</th>\n",
       "      <th>clusters</th>\n",
       "    </tr>\n",
       "  </thead>\n",
       "  <tbody>\n",
       "    <tr>\n",
       "      <th>0</th>\n",
       "      <td>0</td>\n",
       "      <td>0</td>\n",
       "      <td>0</td>\n",
       "      <td>1</td>\n",
       "      <td>1</td>\n",
       "      <td>1.0</td>\n",
       "      <td>1</td>\n",
       "      <td>4.0</td>\n",
       "      <td>1.0</td>\n",
       "      <td>2.0</td>\n",
       "      <td>...</td>\n",
       "      <td>11.0</td>\n",
       "      <td>1.0</td>\n",
       "      <td>7.0</td>\n",
       "      <td>11.0</td>\n",
       "      <td>9.0</td>\n",
       "      <td>6</td>\n",
       "      <td>2.0</td>\n",
       "      <td>1.833333</td>\n",
       "      <td>1</td>\n",
       "      <td>0</td>\n",
       "    </tr>\n",
       "    <tr>\n",
       "      <th>1</th>\n",
       "      <td>0</td>\n",
       "      <td>0</td>\n",
       "      <td>0</td>\n",
       "      <td>1</td>\n",
       "      <td>2</td>\n",
       "      <td>3.0</td>\n",
       "      <td>1</td>\n",
       "      <td>3.0</td>\n",
       "      <td>1.0</td>\n",
       "      <td>1.0</td>\n",
       "      <td>...</td>\n",
       "      <td>3.0</td>\n",
       "      <td>1.0</td>\n",
       "      <td>1.0</td>\n",
       "      <td>11.0</td>\n",
       "      <td>9.0</td>\n",
       "      <td>6</td>\n",
       "      <td>2.0</td>\n",
       "      <td>1.833333</td>\n",
       "      <td>1</td>\n",
       "      <td>0</td>\n",
       "    </tr>\n",
       "    <tr>\n",
       "      <th>2</th>\n",
       "      <td>0</td>\n",
       "      <td>0</td>\n",
       "      <td>0</td>\n",
       "      <td>1</td>\n",
       "      <td>3</td>\n",
       "      <td>2.0</td>\n",
       "      <td>1</td>\n",
       "      <td>1.0</td>\n",
       "      <td>1.0</td>\n",
       "      <td>1.0</td>\n",
       "      <td>...</td>\n",
       "      <td>1.0</td>\n",
       "      <td>1.0</td>\n",
       "      <td>2.0</td>\n",
       "      <td>11.0</td>\n",
       "      <td>9.0</td>\n",
       "      <td>6</td>\n",
       "      <td>2.0</td>\n",
       "      <td>1.833333</td>\n",
       "      <td>1</td>\n",
       "      <td>0</td>\n",
       "    </tr>\n",
       "    <tr>\n",
       "      <th>3</th>\n",
       "      <td>0</td>\n",
       "      <td>0</td>\n",
       "      <td>1</td>\n",
       "      <td>0</td>\n",
       "      <td>4</td>\n",
       "      <td>3.0</td>\n",
       "      <td>1</td>\n",
       "      <td>2.0</td>\n",
       "      <td>1.0</td>\n",
       "      <td>3.0</td>\n",
       "      <td>...</td>\n",
       "      <td>1.0</td>\n",
       "      <td>1.0</td>\n",
       "      <td>4.0</td>\n",
       "      <td>11.0</td>\n",
       "      <td>9.0</td>\n",
       "      <td>6</td>\n",
       "      <td>2.0</td>\n",
       "      <td>1.833333</td>\n",
       "      <td>1</td>\n",
       "      <td>0</td>\n",
       "    </tr>\n",
       "    <tr>\n",
       "      <th>4</th>\n",
       "      <td>0</td>\n",
       "      <td>0</td>\n",
       "      <td>1</td>\n",
       "      <td>0</td>\n",
       "      <td>5</td>\n",
       "      <td>2.0</td>\n",
       "      <td>1</td>\n",
       "      <td>2.0</td>\n",
       "      <td>1.0</td>\n",
       "      <td>3.0</td>\n",
       "      <td>...</td>\n",
       "      <td>3.0</td>\n",
       "      <td>1.0</td>\n",
       "      <td>1.0</td>\n",
       "      <td>11.0</td>\n",
       "      <td>9.0</td>\n",
       "      <td>6</td>\n",
       "      <td>2.0</td>\n",
       "      <td>1.833333</td>\n",
       "      <td>1</td>\n",
       "      <td>0</td>\n",
       "    </tr>\n",
       "    <tr>\n",
       "      <th>...</th>\n",
       "      <td>...</td>\n",
       "      <td>...</td>\n",
       "      <td>...</td>\n",
       "      <td>...</td>\n",
       "      <td>...</td>\n",
       "      <td>...</td>\n",
       "      <td>...</td>\n",
       "      <td>...</td>\n",
       "      <td>...</td>\n",
       "      <td>...</td>\n",
       "      <td>...</td>\n",
       "      <td>...</td>\n",
       "      <td>...</td>\n",
       "      <td>...</td>\n",
       "      <td>...</td>\n",
       "      <td>...</td>\n",
       "      <td>...</td>\n",
       "      <td>...</td>\n",
       "      <td>...</td>\n",
       "      <td>...</td>\n",
       "      <td>...</td>\n",
       "    </tr>\n",
       "    <tr>\n",
       "      <th>25600</th>\n",
       "      <td>0</td>\n",
       "      <td>0</td>\n",
       "      <td>1</td>\n",
       "      <td>0</td>\n",
       "      <td>25601</td>\n",
       "      <td>2.0</td>\n",
       "      <td>4</td>\n",
       "      <td>4.0</td>\n",
       "      <td>0.0</td>\n",
       "      <td>0.0</td>\n",
       "      <td>...</td>\n",
       "      <td>0.0</td>\n",
       "      <td>0.0</td>\n",
       "      <td>0.0</td>\n",
       "      <td>4.0</td>\n",
       "      <td>4.0</td>\n",
       "      <td>1</td>\n",
       "      <td>4.0</td>\n",
       "      <td>4.000000</td>\n",
       "      <td>1</td>\n",
       "      <td>3</td>\n",
       "    </tr>\n",
       "    <tr>\n",
       "      <th>25601</th>\n",
       "      <td>0</td>\n",
       "      <td>0</td>\n",
       "      <td>0</td>\n",
       "      <td>1</td>\n",
       "      <td>25602</td>\n",
       "      <td>3.0</td>\n",
       "      <td>4</td>\n",
       "      <td>1.0</td>\n",
       "      <td>0.0</td>\n",
       "      <td>0.0</td>\n",
       "      <td>...</td>\n",
       "      <td>0.0</td>\n",
       "      <td>0.0</td>\n",
       "      <td>0.0</td>\n",
       "      <td>1.0</td>\n",
       "      <td>4.0</td>\n",
       "      <td>1</td>\n",
       "      <td>4.0</td>\n",
       "      <td>1.000000</td>\n",
       "      <td>1</td>\n",
       "      <td>3</td>\n",
       "    </tr>\n",
       "    <tr>\n",
       "      <th>25602</th>\n",
       "      <td>0</td>\n",
       "      <td>0</td>\n",
       "      <td>1</td>\n",
       "      <td>0</td>\n",
       "      <td>25603</td>\n",
       "      <td>2.0</td>\n",
       "      <td>4</td>\n",
       "      <td>1.0</td>\n",
       "      <td>0.0</td>\n",
       "      <td>0.0</td>\n",
       "      <td>...</td>\n",
       "      <td>0.0</td>\n",
       "      <td>0.0</td>\n",
       "      <td>0.0</td>\n",
       "      <td>1.0</td>\n",
       "      <td>4.0</td>\n",
       "      <td>1</td>\n",
       "      <td>4.0</td>\n",
       "      <td>1.000000</td>\n",
       "      <td>1</td>\n",
       "      <td>3</td>\n",
       "    </tr>\n",
       "    <tr>\n",
       "      <th>25603</th>\n",
       "      <td>0</td>\n",
       "      <td>0</td>\n",
       "      <td>1</td>\n",
       "      <td>0</td>\n",
       "      <td>25604</td>\n",
       "      <td>2.0</td>\n",
       "      <td>4</td>\n",
       "      <td>1.0</td>\n",
       "      <td>0.0</td>\n",
       "      <td>0.0</td>\n",
       "      <td>...</td>\n",
       "      <td>0.0</td>\n",
       "      <td>0.0</td>\n",
       "      <td>0.0</td>\n",
       "      <td>1.0</td>\n",
       "      <td>4.0</td>\n",
       "      <td>1</td>\n",
       "      <td>4.0</td>\n",
       "      <td>1.000000</td>\n",
       "      <td>1</td>\n",
       "      <td>3</td>\n",
       "    </tr>\n",
       "    <tr>\n",
       "      <th>25604</th>\n",
       "      <td>0</td>\n",
       "      <td>0</td>\n",
       "      <td>1</td>\n",
       "      <td>0</td>\n",
       "      <td>25605</td>\n",
       "      <td>2.0</td>\n",
       "      <td>4</td>\n",
       "      <td>1.0</td>\n",
       "      <td>0.0</td>\n",
       "      <td>0.0</td>\n",
       "      <td>...</td>\n",
       "      <td>0.0</td>\n",
       "      <td>0.0</td>\n",
       "      <td>0.0</td>\n",
       "      <td>1.0</td>\n",
       "      <td>4.0</td>\n",
       "      <td>1</td>\n",
       "      <td>4.0</td>\n",
       "      <td>1.000000</td>\n",
       "      <td>1</td>\n",
       "      <td>3</td>\n",
       "    </tr>\n",
       "  </tbody>\n",
       "</table>\n",
       "<p>23000 rows × 25 columns</p>\n",
       "</div>"
      ],
      "text/plain": [
       "       sex_0  sex_C  sex_F  sex_M     ID  Edad  Sit 1  Monto 1  Sit 2  \\\n",
       "0          0      0      0      1      1   1.0      1      4.0    1.0   \n",
       "1          0      0      0      1      2   3.0      1      3.0    1.0   \n",
       "2          0      0      0      1      3   2.0      1      1.0    1.0   \n",
       "3          0      0      1      0      4   3.0      1      2.0    1.0   \n",
       "4          0      0      1      0      5   2.0      1      2.0    1.0   \n",
       "...      ...    ...    ...    ...    ...   ...    ...      ...    ...   \n",
       "25600      0      0      1      0  25601   2.0      4      4.0    0.0   \n",
       "25601      0      0      0      1  25602   3.0      4      1.0    0.0   \n",
       "25602      0      0      1      0  25603   2.0      4      1.0    0.0   \n",
       "25603      0      0      1      0  25604   2.0      4      1.0    0.0   \n",
       "25604      0      0      1      0  25605   2.0      4      1.0    0.0   \n",
       "\n",
       "       Monto 2  ...  Monto 5  Sit 6  Monto 6  total_monto  scoring_total  \\\n",
       "0          2.0  ...     11.0    1.0      7.0         11.0            9.0   \n",
       "1          1.0  ...      3.0    1.0      1.0         11.0            9.0   \n",
       "2          1.0  ...      1.0    1.0      2.0         11.0            9.0   \n",
       "3          3.0  ...      1.0    1.0      4.0         11.0            9.0   \n",
       "4          3.0  ...      3.0    1.0      1.0         11.0            9.0   \n",
       "...        ...  ...      ...    ...      ...          ...            ...   \n",
       "25600      0.0  ...      0.0    0.0      0.0          4.0            4.0   \n",
       "25601      0.0  ...      0.0    0.0      0.0          1.0            4.0   \n",
       "25602      0.0  ...      0.0    0.0      0.0          1.0            4.0   \n",
       "25603      0.0  ...      0.0    0.0      0.0          1.0            4.0   \n",
       "25604      0.0  ...      0.0    0.0      0.0          1.0            4.0   \n",
       "\n",
       "       cantidad_de_bancos  total_scoring_promedio  monto_credito_prom  \\\n",
       "0                       6                     2.0            1.833333   \n",
       "1                       6                     2.0            1.833333   \n",
       "2                       6                     2.0            1.833333   \n",
       "3                       6                     2.0            1.833333   \n",
       "4                       6                     2.0            1.833333   \n",
       "...                   ...                     ...                 ...   \n",
       "25600                   1                     4.0            4.000000   \n",
       "25601                   1                     4.0            1.000000   \n",
       "25602                   1                     4.0            1.000000   \n",
       "25603                   1                     4.0            1.000000   \n",
       "25604                   1                     4.0            1.000000   \n",
       "\n",
       "       cantidad_creditos_morosos  clusters  \n",
       "0                              1         0  \n",
       "1                              1         0  \n",
       "2                              1         0  \n",
       "3                              1         0  \n",
       "4                              1         0  \n",
       "...                          ...       ...  \n",
       "25600                          1         3  \n",
       "25601                          1         3  \n",
       "25602                          1         3  \n",
       "25603                          1         3  \n",
       "25604                          1         3  \n",
       "\n",
       "[23000 rows x 25 columns]"
      ]
     },
     "execution_count": 83,
     "metadata": {},
     "output_type": "execute_result"
    }
   ],
   "source": [
    "data.head(23000)\n"
   ]
  },
  {
   "cell_type": "code",
   "execution_count": 84,
   "metadata": {},
   "outputs": [
    {
     "name": "stdout",
     "output_type": "stream",
     "text": [
      "Requirement already satisfied: yellowbrick in c:\\programdata\\anaconda3\\lib\\site-packages (1.1)\n",
      "Requirement already satisfied: scipy>=1.0.0 in c:\\programdata\\anaconda3\\lib\\site-packages (from yellowbrick) (1.4.1)\n",
      "Requirement already satisfied: scikit-learn>=0.20 in c:\\users\\ariel fleiderman\\appdata\\roaming\\python\\python37\\site-packages (from yellowbrick) (0.23.2)\n",
      "Requirement already satisfied: numpy>=1.13.0 in c:\\programdata\\anaconda3\\lib\\site-packages (from yellowbrick) (1.18.1)\n",
      "Requirement already satisfied: matplotlib!=3.0.0,>=2.0.2 in c:\\programdata\\anaconda3\\lib\\site-packages (from yellowbrick) (3.1.3)\n",
      "Requirement already satisfied: cycler>=0.10.0 in c:\\programdata\\anaconda3\\lib\\site-packages (from yellowbrick) (0.10.0)\n",
      "Requirement already satisfied: joblib>=0.11 in c:\\programdata\\anaconda3\\lib\\site-packages (from scikit-learn>=0.20->yellowbrick) (0.14.1)\n",
      "Requirement already satisfied: threadpoolctl>=2.0.0 in c:\\programdata\\anaconda3\\lib\\site-packages (from scikit-learn>=0.20->yellowbrick) (2.1.0)\n",
      "Requirement already satisfied: python-dateutil>=2.1 in c:\\programdata\\anaconda3\\lib\\site-packages (from matplotlib!=3.0.0,>=2.0.2->yellowbrick) (2.8.1)\n",
      "Requirement already satisfied: kiwisolver>=1.0.1 in c:\\programdata\\anaconda3\\lib\\site-packages (from matplotlib!=3.0.0,>=2.0.2->yellowbrick) (1.1.0)\n",
      "Requirement already satisfied: pyparsing!=2.0.4,!=2.1.2,!=2.1.6,>=2.0.1 in c:\\programdata\\anaconda3\\lib\\site-packages (from matplotlib!=3.0.0,>=2.0.2->yellowbrick) (2.4.6)\n",
      "Requirement already satisfied: six in c:\\programdata\\anaconda3\\lib\\site-packages (from cycler>=0.10.0->yellowbrick) (1.14.0)\n",
      "Requirement already satisfied: setuptools in c:\\programdata\\anaconda3\\lib\\site-packages (from kiwisolver>=1.0.1->matplotlib!=3.0.0,>=2.0.2->yellowbrick) (45.2.0.post20200210)\n"
     ]
    }
   ],
   "source": [
    "!pip install yellowbrick"
   ]
  },
  {
   "cell_type": "code",
   "execution_count": 85,
   "metadata": {},
   "outputs": [
    {
     "name": "stderr",
     "output_type": "stream",
     "text": [
      "C:\\Users\\Ariel Fleiderman\\AppData\\Roaming\\Python\\Python37\\site-packages\\sklearn\\utils\\deprecation.py:143: FutureWarning: The sklearn.metrics.classification module is  deprecated in version 0.22 and will be removed in version 0.24. The corresponding classes / functions should instead be imported from sklearn.metrics. Anything that cannot be imported from sklearn.metrics is now part of the private API.\n",
      "  warnings.warn(message, FutureWarning)\n"
     ]
    }
   ],
   "source": [
    "from yellowbrick.cluster import SilhouetteVisualizer\n",
    "from yellowbrick.datasets import load_nfl"
   ]
  },
  {
   "cell_type": "code",
   "execution_count": 86,
   "metadata": {},
   "outputs": [
    {
     "ename": "KeyboardInterrupt",
     "evalue": "",
     "output_type": "error",
     "traceback": [
      "\u001b[1;31m---------------------------------------------------------------------------\u001b[0m",
      "\u001b[1;31mKeyboardInterrupt\u001b[0m                         Traceback (most recent call last)",
      "\u001b[1;32m<ipython-input-86-3939a981b78b>\u001b[0m in \u001b[0;36m<module>\u001b[1;34m\u001b[0m\n\u001b[0;32m      3\u001b[0m \u001b[0mvisualizer\u001b[0m \u001b[1;33m=\u001b[0m \u001b[0mSilhouetteVisualizer\u001b[0m\u001b[1;33m(\u001b[0m\u001b[0mmodel\u001b[0m\u001b[1;33m,\u001b[0m \u001b[0mcolors\u001b[0m\u001b[1;33m=\u001b[0m\u001b[1;34m'yellowbrick'\u001b[0m\u001b[1;33m)\u001b[0m\u001b[1;33m\u001b[0m\u001b[1;33m\u001b[0m\u001b[0m\n\u001b[0;32m      4\u001b[0m \u001b[1;33m\u001b[0m\u001b[0m\n\u001b[1;32m----> 5\u001b[1;33m \u001b[0mvisualizer\u001b[0m\u001b[1;33m.\u001b[0m\u001b[0mfit\u001b[0m\u001b[1;33m(\u001b[0m\u001b[0mX\u001b[0m\u001b[1;33m)\u001b[0m        \u001b[1;31m# Fit the data to the visualizer\u001b[0m\u001b[1;33m\u001b[0m\u001b[1;33m\u001b[0m\u001b[0m\n\u001b[0m\u001b[0;32m      6\u001b[0m \u001b[0mvisualizer\u001b[0m\u001b[1;33m.\u001b[0m\u001b[0mshow\u001b[0m\u001b[1;33m(\u001b[0m\u001b[1;33m)\u001b[0m        \u001b[1;31m# Finalize and render the figure\u001b[0m\u001b[1;33m\u001b[0m\u001b[1;33m\u001b[0m\u001b[0m\n",
      "\u001b[1;32mC:\\ProgramData\\Anaconda3\\lib\\site-packages\\yellowbrick\\cluster\\silhouette.py\u001b[0m in \u001b[0;36mfit\u001b[1;34m(self, X, y, **kwargs)\u001b[0m\n\u001b[0;32m    144\u001b[0m         \u001b[1;31m# Compute the scores of the cluster\u001b[0m\u001b[1;33m\u001b[0m\u001b[1;33m\u001b[0m\u001b[1;33m\u001b[0m\u001b[0m\n\u001b[0;32m    145\u001b[0m         \u001b[0mlabels\u001b[0m \u001b[1;33m=\u001b[0m \u001b[0mself\u001b[0m\u001b[1;33m.\u001b[0m\u001b[0mestimator\u001b[0m\u001b[1;33m.\u001b[0m\u001b[0mpredict\u001b[0m\u001b[1;33m(\u001b[0m\u001b[0mX\u001b[0m\u001b[1;33m)\u001b[0m\u001b[1;33m\u001b[0m\u001b[1;33m\u001b[0m\u001b[0m\n\u001b[1;32m--> 146\u001b[1;33m         \u001b[0mself\u001b[0m\u001b[1;33m.\u001b[0m\u001b[0msilhouette_score_\u001b[0m \u001b[1;33m=\u001b[0m \u001b[0msilhouette_score\u001b[0m\u001b[1;33m(\u001b[0m\u001b[0mX\u001b[0m\u001b[1;33m,\u001b[0m \u001b[0mlabels\u001b[0m\u001b[1;33m)\u001b[0m\u001b[1;33m\u001b[0m\u001b[1;33m\u001b[0m\u001b[0m\n\u001b[0m\u001b[0;32m    147\u001b[0m         \u001b[0mself\u001b[0m\u001b[1;33m.\u001b[0m\u001b[0msilhouette_samples_\u001b[0m \u001b[1;33m=\u001b[0m \u001b[0msilhouette_samples\u001b[0m\u001b[1;33m(\u001b[0m\u001b[0mX\u001b[0m\u001b[1;33m,\u001b[0m \u001b[0mlabels\u001b[0m\u001b[1;33m)\u001b[0m\u001b[1;33m\u001b[0m\u001b[1;33m\u001b[0m\u001b[0m\n\u001b[0;32m    148\u001b[0m \u001b[1;33m\u001b[0m\u001b[0m\n",
      "\u001b[1;32m~\\AppData\\Roaming\\Python\\Python37\\site-packages\\sklearn\\utils\\validation.py\u001b[0m in \u001b[0;36minner_f\u001b[1;34m(*args, **kwargs)\u001b[0m\n\u001b[0;32m     70\u001b[0m                           FutureWarning)\n\u001b[0;32m     71\u001b[0m         \u001b[0mkwargs\u001b[0m\u001b[1;33m.\u001b[0m\u001b[0mupdate\u001b[0m\u001b[1;33m(\u001b[0m\u001b[1;33m{\u001b[0m\u001b[0mk\u001b[0m\u001b[1;33m:\u001b[0m \u001b[0marg\u001b[0m \u001b[1;32mfor\u001b[0m \u001b[0mk\u001b[0m\u001b[1;33m,\u001b[0m \u001b[0marg\u001b[0m \u001b[1;32min\u001b[0m \u001b[0mzip\u001b[0m\u001b[1;33m(\u001b[0m\u001b[0msig\u001b[0m\u001b[1;33m.\u001b[0m\u001b[0mparameters\u001b[0m\u001b[1;33m,\u001b[0m \u001b[0margs\u001b[0m\u001b[1;33m)\u001b[0m\u001b[1;33m}\u001b[0m\u001b[1;33m)\u001b[0m\u001b[1;33m\u001b[0m\u001b[1;33m\u001b[0m\u001b[0m\n\u001b[1;32m---> 72\u001b[1;33m         \u001b[1;32mreturn\u001b[0m \u001b[0mf\u001b[0m\u001b[1;33m(\u001b[0m\u001b[1;33m**\u001b[0m\u001b[0mkwargs\u001b[0m\u001b[1;33m)\u001b[0m\u001b[1;33m\u001b[0m\u001b[1;33m\u001b[0m\u001b[0m\n\u001b[0m\u001b[0;32m     73\u001b[0m     \u001b[1;32mreturn\u001b[0m \u001b[0minner_f\u001b[0m\u001b[1;33m\u001b[0m\u001b[1;33m\u001b[0m\u001b[0m\n\u001b[0;32m     74\u001b[0m \u001b[1;33m\u001b[0m\u001b[0m\n",
      "\u001b[1;32m~\\AppData\\Roaming\\Python\\Python37\\site-packages\\sklearn\\metrics\\cluster\\_unsupervised.py\u001b[0m in \u001b[0;36msilhouette_score\u001b[1;34m(X, labels, metric, sample_size, random_state, **kwds)\u001b[0m\n\u001b[0;32m    115\u001b[0m         \u001b[1;32melse\u001b[0m\u001b[1;33m:\u001b[0m\u001b[1;33m\u001b[0m\u001b[1;33m\u001b[0m\u001b[0m\n\u001b[0;32m    116\u001b[0m             \u001b[0mX\u001b[0m\u001b[1;33m,\u001b[0m \u001b[0mlabels\u001b[0m \u001b[1;33m=\u001b[0m \u001b[0mX\u001b[0m\u001b[1;33m[\u001b[0m\u001b[0mindices\u001b[0m\u001b[1;33m]\u001b[0m\u001b[1;33m,\u001b[0m \u001b[0mlabels\u001b[0m\u001b[1;33m[\u001b[0m\u001b[0mindices\u001b[0m\u001b[1;33m]\u001b[0m\u001b[1;33m\u001b[0m\u001b[1;33m\u001b[0m\u001b[0m\n\u001b[1;32m--> 117\u001b[1;33m     \u001b[1;32mreturn\u001b[0m \u001b[0mnp\u001b[0m\u001b[1;33m.\u001b[0m\u001b[0mmean\u001b[0m\u001b[1;33m(\u001b[0m\u001b[0msilhouette_samples\u001b[0m\u001b[1;33m(\u001b[0m\u001b[0mX\u001b[0m\u001b[1;33m,\u001b[0m \u001b[0mlabels\u001b[0m\u001b[1;33m,\u001b[0m \u001b[0mmetric\u001b[0m\u001b[1;33m=\u001b[0m\u001b[0mmetric\u001b[0m\u001b[1;33m,\u001b[0m \u001b[1;33m**\u001b[0m\u001b[0mkwds\u001b[0m\u001b[1;33m)\u001b[0m\u001b[1;33m)\u001b[0m\u001b[1;33m\u001b[0m\u001b[1;33m\u001b[0m\u001b[0m\n\u001b[0m\u001b[0;32m    118\u001b[0m \u001b[1;33m\u001b[0m\u001b[0m\n\u001b[0;32m    119\u001b[0m \u001b[1;33m\u001b[0m\u001b[0m\n",
      "\u001b[1;32m~\\AppData\\Roaming\\Python\\Python37\\site-packages\\sklearn\\utils\\validation.py\u001b[0m in \u001b[0;36minner_f\u001b[1;34m(*args, **kwargs)\u001b[0m\n\u001b[0;32m     70\u001b[0m                           FutureWarning)\n\u001b[0;32m     71\u001b[0m         \u001b[0mkwargs\u001b[0m\u001b[1;33m.\u001b[0m\u001b[0mupdate\u001b[0m\u001b[1;33m(\u001b[0m\u001b[1;33m{\u001b[0m\u001b[0mk\u001b[0m\u001b[1;33m:\u001b[0m \u001b[0marg\u001b[0m \u001b[1;32mfor\u001b[0m \u001b[0mk\u001b[0m\u001b[1;33m,\u001b[0m \u001b[0marg\u001b[0m \u001b[1;32min\u001b[0m \u001b[0mzip\u001b[0m\u001b[1;33m(\u001b[0m\u001b[0msig\u001b[0m\u001b[1;33m.\u001b[0m\u001b[0mparameters\u001b[0m\u001b[1;33m,\u001b[0m \u001b[0margs\u001b[0m\u001b[1;33m)\u001b[0m\u001b[1;33m}\u001b[0m\u001b[1;33m)\u001b[0m\u001b[1;33m\u001b[0m\u001b[1;33m\u001b[0m\u001b[0m\n\u001b[1;32m---> 72\u001b[1;33m         \u001b[1;32mreturn\u001b[0m \u001b[0mf\u001b[0m\u001b[1;33m(\u001b[0m\u001b[1;33m**\u001b[0m\u001b[0mkwargs\u001b[0m\u001b[1;33m)\u001b[0m\u001b[1;33m\u001b[0m\u001b[1;33m\u001b[0m\u001b[0m\n\u001b[0m\u001b[0;32m     73\u001b[0m     \u001b[1;32mreturn\u001b[0m \u001b[0minner_f\u001b[0m\u001b[1;33m\u001b[0m\u001b[1;33m\u001b[0m\u001b[0m\n\u001b[0;32m     74\u001b[0m \u001b[1;33m\u001b[0m\u001b[0m\n",
      "\u001b[1;32m~\\AppData\\Roaming\\Python\\Python37\\site-packages\\sklearn\\metrics\\cluster\\_unsupervised.py\u001b[0m in \u001b[0;36msilhouette_samples\u001b[1;34m(X, labels, metric, **kwds)\u001b[0m\n\u001b[0;32m    233\u001b[0m                                     labels=labels, label_freqs=label_freqs)\n\u001b[0;32m    234\u001b[0m     results = zip(*pairwise_distances_chunked(X, reduce_func=reduce_func,\n\u001b[1;32m--> 235\u001b[1;33m                                               **kwds))\n\u001b[0m\u001b[0;32m    236\u001b[0m     \u001b[0mintra_clust_dists\u001b[0m\u001b[1;33m,\u001b[0m \u001b[0minter_clust_dists\u001b[0m \u001b[1;33m=\u001b[0m \u001b[0mresults\u001b[0m\u001b[1;33m\u001b[0m\u001b[1;33m\u001b[0m\u001b[0m\n\u001b[0;32m    237\u001b[0m     \u001b[0mintra_clust_dists\u001b[0m \u001b[1;33m=\u001b[0m \u001b[0mnp\u001b[0m\u001b[1;33m.\u001b[0m\u001b[0mconcatenate\u001b[0m\u001b[1;33m(\u001b[0m\u001b[0mintra_clust_dists\u001b[0m\u001b[1;33m)\u001b[0m\u001b[1;33m\u001b[0m\u001b[1;33m\u001b[0m\u001b[0m\n",
      "\u001b[1;32m~\\AppData\\Roaming\\Python\\Python37\\site-packages\\sklearn\\metrics\\pairwise.py\u001b[0m in \u001b[0;36mpairwise_distances_chunked\u001b[1;34m(X, Y, reduce_func, metric, n_jobs, working_memory, **kwds)\u001b[0m\n\u001b[0;32m   1615\u001b[0m             \u001b[0mX_chunk\u001b[0m \u001b[1;33m=\u001b[0m \u001b[0mX\u001b[0m\u001b[1;33m[\u001b[0m\u001b[0msl\u001b[0m\u001b[1;33m]\u001b[0m\u001b[1;33m\u001b[0m\u001b[1;33m\u001b[0m\u001b[0m\n\u001b[0;32m   1616\u001b[0m         D_chunk = pairwise_distances(X_chunk, Y, metric=metric,\n\u001b[1;32m-> 1617\u001b[1;33m                                      n_jobs=n_jobs, **kwds)\n\u001b[0m\u001b[0;32m   1618\u001b[0m         if ((X is Y or Y is None)\n\u001b[0;32m   1619\u001b[0m                 \u001b[1;32mand\u001b[0m \u001b[0mPAIRWISE_DISTANCE_FUNCTIONS\u001b[0m\u001b[1;33m.\u001b[0m\u001b[0mget\u001b[0m\u001b[1;33m(\u001b[0m\u001b[0mmetric\u001b[0m\u001b[1;33m,\u001b[0m \u001b[1;32mNone\u001b[0m\u001b[1;33m)\u001b[0m\u001b[1;33m\u001b[0m\u001b[1;33m\u001b[0m\u001b[0m\n",
      "\u001b[1;32m~\\AppData\\Roaming\\Python\\Python37\\site-packages\\sklearn\\utils\\validation.py\u001b[0m in \u001b[0;36minner_f\u001b[1;34m(*args, **kwargs)\u001b[0m\n\u001b[0;32m     70\u001b[0m                           FutureWarning)\n\u001b[0;32m     71\u001b[0m         \u001b[0mkwargs\u001b[0m\u001b[1;33m.\u001b[0m\u001b[0mupdate\u001b[0m\u001b[1;33m(\u001b[0m\u001b[1;33m{\u001b[0m\u001b[0mk\u001b[0m\u001b[1;33m:\u001b[0m \u001b[0marg\u001b[0m \u001b[1;32mfor\u001b[0m \u001b[0mk\u001b[0m\u001b[1;33m,\u001b[0m \u001b[0marg\u001b[0m \u001b[1;32min\u001b[0m \u001b[0mzip\u001b[0m\u001b[1;33m(\u001b[0m\u001b[0msig\u001b[0m\u001b[1;33m.\u001b[0m\u001b[0mparameters\u001b[0m\u001b[1;33m,\u001b[0m \u001b[0margs\u001b[0m\u001b[1;33m)\u001b[0m\u001b[1;33m}\u001b[0m\u001b[1;33m)\u001b[0m\u001b[1;33m\u001b[0m\u001b[1;33m\u001b[0m\u001b[0m\n\u001b[1;32m---> 72\u001b[1;33m         \u001b[1;32mreturn\u001b[0m \u001b[0mf\u001b[0m\u001b[1;33m(\u001b[0m\u001b[1;33m**\u001b[0m\u001b[0mkwargs\u001b[0m\u001b[1;33m)\u001b[0m\u001b[1;33m\u001b[0m\u001b[1;33m\u001b[0m\u001b[0m\n\u001b[0m\u001b[0;32m     73\u001b[0m     \u001b[1;32mreturn\u001b[0m \u001b[0minner_f\u001b[0m\u001b[1;33m\u001b[0m\u001b[1;33m\u001b[0m\u001b[0m\n\u001b[0;32m     74\u001b[0m \u001b[1;33m\u001b[0m\u001b[0m\n",
      "\u001b[1;32m~\\AppData\\Roaming\\Python\\Python37\\site-packages\\sklearn\\metrics\\pairwise.py\u001b[0m in \u001b[0;36mpairwise_distances\u001b[1;34m(X, Y, metric, n_jobs, force_all_finite, **kwds)\u001b[0m\n\u001b[0;32m   1777\u001b[0m         \u001b[0mfunc\u001b[0m \u001b[1;33m=\u001b[0m \u001b[0mpartial\u001b[0m\u001b[1;33m(\u001b[0m\u001b[0mdistance\u001b[0m\u001b[1;33m.\u001b[0m\u001b[0mcdist\u001b[0m\u001b[1;33m,\u001b[0m \u001b[0mmetric\u001b[0m\u001b[1;33m=\u001b[0m\u001b[0mmetric\u001b[0m\u001b[1;33m,\u001b[0m \u001b[1;33m**\u001b[0m\u001b[0mkwds\u001b[0m\u001b[1;33m)\u001b[0m\u001b[1;33m\u001b[0m\u001b[1;33m\u001b[0m\u001b[0m\n\u001b[0;32m   1778\u001b[0m \u001b[1;33m\u001b[0m\u001b[0m\n\u001b[1;32m-> 1779\u001b[1;33m     \u001b[1;32mreturn\u001b[0m \u001b[0m_parallel_pairwise\u001b[0m\u001b[1;33m(\u001b[0m\u001b[0mX\u001b[0m\u001b[1;33m,\u001b[0m \u001b[0mY\u001b[0m\u001b[1;33m,\u001b[0m \u001b[0mfunc\u001b[0m\u001b[1;33m,\u001b[0m \u001b[0mn_jobs\u001b[0m\u001b[1;33m,\u001b[0m \u001b[1;33m**\u001b[0m\u001b[0mkwds\u001b[0m\u001b[1;33m)\u001b[0m\u001b[1;33m\u001b[0m\u001b[1;33m\u001b[0m\u001b[0m\n\u001b[0m\u001b[0;32m   1780\u001b[0m \u001b[1;33m\u001b[0m\u001b[0m\n\u001b[0;32m   1781\u001b[0m \u001b[1;33m\u001b[0m\u001b[0m\n",
      "\u001b[1;32m~\\AppData\\Roaming\\Python\\Python37\\site-packages\\sklearn\\metrics\\pairwise.py\u001b[0m in \u001b[0;36m_parallel_pairwise\u001b[1;34m(X, Y, func, n_jobs, **kwds)\u001b[0m\n\u001b[0;32m   1358\u001b[0m \u001b[1;33m\u001b[0m\u001b[0m\n\u001b[0;32m   1359\u001b[0m     \u001b[1;32mif\u001b[0m \u001b[0meffective_n_jobs\u001b[0m\u001b[1;33m(\u001b[0m\u001b[0mn_jobs\u001b[0m\u001b[1;33m)\u001b[0m \u001b[1;33m==\u001b[0m \u001b[1;36m1\u001b[0m\u001b[1;33m:\u001b[0m\u001b[1;33m\u001b[0m\u001b[1;33m\u001b[0m\u001b[0m\n\u001b[1;32m-> 1360\u001b[1;33m         \u001b[1;32mreturn\u001b[0m \u001b[0mfunc\u001b[0m\u001b[1;33m(\u001b[0m\u001b[0mX\u001b[0m\u001b[1;33m,\u001b[0m \u001b[0mY\u001b[0m\u001b[1;33m,\u001b[0m \u001b[1;33m**\u001b[0m\u001b[0mkwds\u001b[0m\u001b[1;33m)\u001b[0m\u001b[1;33m\u001b[0m\u001b[1;33m\u001b[0m\u001b[0m\n\u001b[0m\u001b[0;32m   1361\u001b[0m \u001b[1;33m\u001b[0m\u001b[0m\n\u001b[0;32m   1362\u001b[0m     \u001b[1;31m# enforce a threading backend to prevent data communication overhead\u001b[0m\u001b[1;33m\u001b[0m\u001b[1;33m\u001b[0m\u001b[1;33m\u001b[0m\u001b[0m\n",
      "\u001b[1;32m~\\AppData\\Roaming\\Python\\Python37\\site-packages\\sklearn\\utils\\validation.py\u001b[0m in \u001b[0;36minner_f\u001b[1;34m(*args, **kwargs)\u001b[0m\n\u001b[0;32m     70\u001b[0m                           FutureWarning)\n\u001b[0;32m     71\u001b[0m         \u001b[0mkwargs\u001b[0m\u001b[1;33m.\u001b[0m\u001b[0mupdate\u001b[0m\u001b[1;33m(\u001b[0m\u001b[1;33m{\u001b[0m\u001b[0mk\u001b[0m\u001b[1;33m:\u001b[0m \u001b[0marg\u001b[0m \u001b[1;32mfor\u001b[0m \u001b[0mk\u001b[0m\u001b[1;33m,\u001b[0m \u001b[0marg\u001b[0m \u001b[1;32min\u001b[0m \u001b[0mzip\u001b[0m\u001b[1;33m(\u001b[0m\u001b[0msig\u001b[0m\u001b[1;33m.\u001b[0m\u001b[0mparameters\u001b[0m\u001b[1;33m,\u001b[0m \u001b[0margs\u001b[0m\u001b[1;33m)\u001b[0m\u001b[1;33m}\u001b[0m\u001b[1;33m)\u001b[0m\u001b[1;33m\u001b[0m\u001b[1;33m\u001b[0m\u001b[0m\n\u001b[1;32m---> 72\u001b[1;33m         \u001b[1;32mreturn\u001b[0m \u001b[0mf\u001b[0m\u001b[1;33m(\u001b[0m\u001b[1;33m**\u001b[0m\u001b[0mkwargs\u001b[0m\u001b[1;33m)\u001b[0m\u001b[1;33m\u001b[0m\u001b[1;33m\u001b[0m\u001b[0m\n\u001b[0m\u001b[0;32m     73\u001b[0m     \u001b[1;32mreturn\u001b[0m \u001b[0minner_f\u001b[0m\u001b[1;33m\u001b[0m\u001b[1;33m\u001b[0m\u001b[0m\n\u001b[0;32m     74\u001b[0m \u001b[1;33m\u001b[0m\u001b[0m\n",
      "\u001b[1;32m~\\AppData\\Roaming\\Python\\Python37\\site-packages\\sklearn\\metrics\\pairwise.py\u001b[0m in \u001b[0;36meuclidean_distances\u001b[1;34m(X, Y, Y_norm_squared, squared, X_norm_squared)\u001b[0m\n\u001b[0;32m    310\u001b[0m         \u001b[0mdistances\u001b[0m \u001b[1;33m=\u001b[0m \u001b[1;33m-\u001b[0m \u001b[1;36m2\u001b[0m \u001b[1;33m*\u001b[0m \u001b[0msafe_sparse_dot\u001b[0m\u001b[1;33m(\u001b[0m\u001b[0mX\u001b[0m\u001b[1;33m,\u001b[0m \u001b[0mY\u001b[0m\u001b[1;33m.\u001b[0m\u001b[0mT\u001b[0m\u001b[1;33m,\u001b[0m \u001b[0mdense_output\u001b[0m\u001b[1;33m=\u001b[0m\u001b[1;32mTrue\u001b[0m\u001b[1;33m)\u001b[0m\u001b[1;33m\u001b[0m\u001b[1;33m\u001b[0m\u001b[0m\n\u001b[0;32m    311\u001b[0m         \u001b[0mdistances\u001b[0m \u001b[1;33m+=\u001b[0m \u001b[0mXX\u001b[0m\u001b[1;33m\u001b[0m\u001b[1;33m\u001b[0m\u001b[0m\n\u001b[1;32m--> 312\u001b[1;33m         \u001b[0mdistances\u001b[0m \u001b[1;33m+=\u001b[0m \u001b[0mYY\u001b[0m\u001b[1;33m\u001b[0m\u001b[1;33m\u001b[0m\u001b[0m\n\u001b[0m\u001b[0;32m    313\u001b[0m     \u001b[0mnp\u001b[0m\u001b[1;33m.\u001b[0m\u001b[0mmaximum\u001b[0m\u001b[1;33m(\u001b[0m\u001b[0mdistances\u001b[0m\u001b[1;33m,\u001b[0m \u001b[1;36m0\u001b[0m\u001b[1;33m,\u001b[0m \u001b[0mout\u001b[0m\u001b[1;33m=\u001b[0m\u001b[0mdistances\u001b[0m\u001b[1;33m)\u001b[0m\u001b[1;33m\u001b[0m\u001b[1;33m\u001b[0m\u001b[0m\n\u001b[0;32m    314\u001b[0m \u001b[1;33m\u001b[0m\u001b[0m\n",
      "\u001b[1;31mKeyboardInterrupt\u001b[0m: "
     ]
    }
   ],
   "source": [
    "\n",
    "\n",
    "# Instantiate the clustering model and visualizer\n",
    "model = KMeans(6, random_state=42)\n",
    "visualizer = SilhouetteVisualizer(model, colors='yellowbrick')\n",
    "\n",
    "visualizer.fit(X)        # Fit the data to the visualizer\n",
    "visualizer.show()        # Finalize and render the figure"
   ]
  },
  {
   "cell_type": "code",
   "execution_count": null,
   "metadata": {},
   "outputs": [],
   "source": [
    "\n",
    "\n",
    "# Instantiate the clustering model and visualizer\n",
    "model = KMeans(5, random_state=42)\n",
    "visualizer = SilhouetteVisualizer(model, colors='yellowbrick')\n",
    "\n",
    "visualizer.fit(X)        # Fit the data to the visualizer\n",
    "visualizer.show()        # Finalize and render the figure"
   ]
  },
  {
   "cell_type": "code",
   "execution_count": null,
   "metadata": {},
   "outputs": [],
   "source": [
    "\n",
    "\n",
    "# Instantiate the clustering model and visualizer\n",
    "model = KMeans(4, random_state=42)\n",
    "visualizer = SilhouetteVisualizer(model, colors='yellowbrick')\n",
    "\n",
    "visualizer.fit(X)        # Fit the data to the visualizer\n",
    "visualizer.show()        # Finalize and render the figure"
   ]
  },
  {
   "cell_type": "code",
   "execution_count": null,
   "metadata": {},
   "outputs": [],
   "source": [
    "\n",
    "\n",
    "# Instantiate the clustering model and visualizer\n",
    "model = KMeans(3, random_state=42)\n",
    "visualizer = SilhouetteVisualizer(model, colors='yellowbrick')\n",
    "\n",
    "visualizer.fit(X)        # Fit the data to the visualizer\n",
    "visualizer.show()        # Finalize and render the figure"
   ]
  },
  {
   "cell_type": "code",
   "execution_count": null,
   "metadata": {},
   "outputs": [],
   "source": [
    "list(data)"
   ]
  },
  {
   "cell_type": "code",
   "execution_count": null,
   "metadata": {},
   "outputs": [],
   "source": [
    "plot = pd.crosstab(index=data['clusters'],\n",
    "            columns=data['total_scoring_promedio']\n",
    "                  ).apply(lambda r: r/r.sum() *100,\n",
    "                          axis=0).plot(kind='bar', stacked=True)\n",
    "\n",
    "plot = pd.crosstab(index=data['clusters'],\n",
    "            columns=data['cantidad_de_bancos']\n",
    "                  ).apply(lambda r: r/r.sum() *100,\n",
    "                          axis=0).plot(kind='bar', stacked=True)\n",
    "\n",
    "plot = pd.crosstab(index=data['clusters'],\n",
    "            columns=data['cantidad_creditos_morosos']\n",
    "                  ).apply(lambda r: r/r.sum() *100,\n",
    "                          axis=0).plot(kind='bar', stacked=True)\n",
    "\n",
    "\n",
    "plot = pd.crosstab(index=data['clusters'],\n",
    "            columns=data['sex_F']\n",
    "                  ).apply(lambda r: r/r.sum() *100,\n",
    "                          axis=0).plot(kind='bar', stacked=True)\n",
    "\n",
    "plot = pd.crosstab(index=data['clusters'],\n",
    "            columns=data['Edad']\n",
    "                  ).apply(lambda r: r/r.sum() *100,\n",
    "                          axis=0).plot(kind='bar', stacked=True)\n",
    "\n",
    "plot = pd.crosstab(index=data['clusters'],\n",
    "            columns=data['total_monto']\n",
    "                  ).apply(lambda r: r/r.sum() *100,\n",
    "                          axis=0).plot(kind='bar', stacked=True)"
   ]
  },
  {
   "cell_type": "code",
   "execution_count": null,
   "metadata": {},
   "outputs": [],
   "source": [
    "pd.pivot_table(data, index=['clusters'],\n",
    "                        columns=['sex_F','Sit 1'], # lista de columnas del dataset a utilizar como columnas de la tabla pivot\n",
    "                        aggfunc=['size'])[:30]\n",
    "# vemos los primeros 30 registros"
   ]
  },
  {
   "cell_type": "code",
   "execution_count": null,
   "metadata": {},
   "outputs": [],
   "source": [
    "pd.pivot_table(data, index=['clusters'],\n",
    "  columns=['Edad','Sit 1'], # lista de columnas del dataset a utilizar como columnas de la tabla pivot\n",
    "                        aggfunc=['size'])[:30] # vemos los primeros 30 registros"
   ]
  },
  {
   "cell_type": "code",
   "execution_count": null,
   "metadata": {},
   "outputs": [],
   "source": [
    "pd.pivot_table(data, index=['clusters'],\n",
    "  columns=['Edad','Sit 2'], # lista de columnas del dataset a utilizar como columnas de la tabla pivot\n",
    "                        aggfunc=['size'])[:30]"
   ]
  },
  {
   "cell_type": "code",
   "execution_count": null,
   "metadata": {},
   "outputs": [],
   "source": [
    "pd.pivot_table(data, index=['clusters'],\n",
    "  columns=['Edad','Sit 3'], # lista de columnas del dataset a utilizar como columnas de la tabla pivot\n",
    "                        aggfunc=['size'])[:30]"
   ]
  },
  {
   "cell_type": "code",
   "execution_count": null,
   "metadata": {
    "scrolled": true
   },
   "outputs": [],
   "source": [
    "pd.pivot_table(data, index=['clusters'],\n",
    "  columns=['total_scoring_promedio'], # lista de columnas del dataset a utilizar como columnas de la tabla pivot\n",
    "                        aggfunc=['size'])[:30]"
   ]
  },
  {
   "cell_type": "code",
   "execution_count": null,
   "metadata": {},
   "outputs": [],
   "source": [
    "pd.pivot_table(data, index=['clusters'],\n",
    "  columns=['monto_credito_prom'], # lista de columnas del dataset a utilizar como columnas de la tabla pivot\n",
    "                        aggfunc=['size'])[:30]"
   ]
  },
  {
   "cell_type": "code",
   "execution_count": null,
   "metadata": {},
   "outputs": [],
   "source": [
    "pd.pivot_table(data, index=['clusters'],\n",
    "  columns=['cantidad_creditos_morosos'], # lista de columnas del dataset a utilizar como columnas de la tabla pivot\n",
    "                        aggfunc=['size'])[:30]"
   ]
  },
  {
   "cell_type": "code",
   "execution_count": null,
   "metadata": {},
   "outputs": [],
   "source": [
    "pd.pivot_table(data, index=['Edad'],\n",
    "  columns=['cantidad_creditos_morosos'], # lista de columnas del dataset a utilizar como columnas de la tabla pivot\n",
    "                        aggfunc=['size'])[:30]"
   ]
  },
  {
   "cell_type": "code",
   "execution_count": null,
   "metadata": {},
   "outputs": [],
   "source": [
    "pd.pivot_table(data, index=['total_scoring_promedio'],\n",
    "  columns=['cantidad_creditos_morosos'], # lista de columnas del dataset a utilizar como columnas de la tabla pivot\n",
    "                        aggfunc=['size'])[:30]"
   ]
  },
  {
   "cell_type": "code",
   "execution_count": null,
   "metadata": {},
   "outputs": [],
   "source": [
    "pd.pivot_table(data, index=['total_scoring_promedio'],\n",
    "  columns=['Edad'], # lista de columnas del dataset a utilizar como columnas de la tabla pivot\n",
    "                        aggfunc=['size'])[:30]"
   ]
  },
  {
   "cell_type": "code",
   "execution_count": null,
   "metadata": {},
   "outputs": [],
   "source": [
    "pd.pivot_table(data, index=['Edad'],\n",
    "  columns=['cantidad_creditos_morosos'], # lista de columnas del dataset a utilizar como columnas de la tabla pivot\n",
    "                        aggfunc=['size'])[:30]"
   ]
  },
  {
   "cell_type": "code",
   "execution_count": null,
   "metadata": {},
   "outputs": [],
   "source": [
    "pd.pivot_table(data, index=['cantidad_creditos_morosos'],\n",
    "  columns=['monto_credito_prom'], # lista de columnas del dataset a utilizar como columnas de la tabla pivot\n",
    "                        aggfunc=['size'])[:30]"
   ]
  },
  {
   "cell_type": "markdown",
   "metadata": {},
   "source": [
    "Construccion del target"
   ]
  },
  {
   "cell_type": "code",
   "execution_count": 130,
   "metadata": {},
   "outputs": [],
   "source": [
    "#moroso es aquel que tiene en credito en estado 3 o 4 y debe mas que el promedio\n",
    "data['target'] = (data['cantidad_creditos_morosos']> 0) & (data['monto_credito_prom'] > 3.6).astype(bool)"
   ]
  },
  {
   "cell_type": "code",
   "execution_count": 131,
   "metadata": {},
   "outputs": [],
   "source": [
    "data1 = pd.get_dummies(data['target'], prefix='target') #Creamos columnas con las subcategorias de 'DEVICE_VENDOR_NAME' y guardamos en nuevo dataframe\n",
    "data = pd.concat([data1, data], axis=1)                          #Concatenamos los dos dataframes\n",
    "del data1"
   ]
  },
  {
   "cell_type": "code",
   "execution_count": 132,
   "metadata": {},
   "outputs": [],
   "source": [
    "to_remove = (['target','target_False'])\n",
    "data.drop(columns = to_remove, inplace=True)"
   ]
  },
  {
   "cell_type": "code",
   "execution_count": 133,
   "metadata": {},
   "outputs": [
    {
     "data": {
      "text/html": [
       "<div>\n",
       "<style scoped>\n",
       "    .dataframe tbody tr th:only-of-type {\n",
       "        vertical-align: middle;\n",
       "    }\n",
       "\n",
       "    .dataframe tbody tr th {\n",
       "        vertical-align: top;\n",
       "    }\n",
       "\n",
       "    .dataframe thead th {\n",
       "        text-align: right;\n",
       "    }\n",
       "</style>\n",
       "<table border=\"1\" class=\"dataframe\">\n",
       "  <thead>\n",
       "    <tr style=\"text-align: right;\">\n",
       "      <th></th>\n",
       "      <th>target_True</th>\n",
       "      <th>sex_0</th>\n",
       "      <th>sex_C</th>\n",
       "      <th>sex_F</th>\n",
       "      <th>sex_M</th>\n",
       "      <th>ID</th>\n",
       "      <th>Edad</th>\n",
       "      <th>Sit 1</th>\n",
       "      <th>Monto 1</th>\n",
       "      <th>Sit 2</th>\n",
       "      <th>...</th>\n",
       "      <th>Sit 5</th>\n",
       "      <th>Monto 5</th>\n",
       "      <th>Sit 6</th>\n",
       "      <th>Monto 6</th>\n",
       "      <th>total_monto</th>\n",
       "      <th>scoring_total</th>\n",
       "      <th>cantidad_de_bancos</th>\n",
       "      <th>total_scoring_promedio</th>\n",
       "      <th>monto_credito_prom</th>\n",
       "      <th>cantidad_creditos_morosos</th>\n",
       "    </tr>\n",
       "  </thead>\n",
       "  <tbody>\n",
       "    <tr>\n",
       "      <th>0</th>\n",
       "      <td>0</td>\n",
       "      <td>0</td>\n",
       "      <td>0</td>\n",
       "      <td>0</td>\n",
       "      <td>1</td>\n",
       "      <td>1</td>\n",
       "      <td>1.0</td>\n",
       "      <td>1</td>\n",
       "      <td>4.0</td>\n",
       "      <td>1.0</td>\n",
       "      <td>...</td>\n",
       "      <td>1.0</td>\n",
       "      <td>11.0</td>\n",
       "      <td>1.0</td>\n",
       "      <td>7.0</td>\n",
       "      <td>11.0</td>\n",
       "      <td>9.0</td>\n",
       "      <td>6</td>\n",
       "      <td>2.0</td>\n",
       "      <td>1.833333</td>\n",
       "      <td>1</td>\n",
       "    </tr>\n",
       "    <tr>\n",
       "      <th>1</th>\n",
       "      <td>0</td>\n",
       "      <td>0</td>\n",
       "      <td>0</td>\n",
       "      <td>0</td>\n",
       "      <td>1</td>\n",
       "      <td>2</td>\n",
       "      <td>3.0</td>\n",
       "      <td>1</td>\n",
       "      <td>3.0</td>\n",
       "      <td>1.0</td>\n",
       "      <td>...</td>\n",
       "      <td>1.0</td>\n",
       "      <td>3.0</td>\n",
       "      <td>1.0</td>\n",
       "      <td>1.0</td>\n",
       "      <td>11.0</td>\n",
       "      <td>9.0</td>\n",
       "      <td>6</td>\n",
       "      <td>2.0</td>\n",
       "      <td>1.833333</td>\n",
       "      <td>1</td>\n",
       "    </tr>\n",
       "    <tr>\n",
       "      <th>2</th>\n",
       "      <td>0</td>\n",
       "      <td>0</td>\n",
       "      <td>0</td>\n",
       "      <td>0</td>\n",
       "      <td>1</td>\n",
       "      <td>3</td>\n",
       "      <td>2.0</td>\n",
       "      <td>1</td>\n",
       "      <td>1.0</td>\n",
       "      <td>1.0</td>\n",
       "      <td>...</td>\n",
       "      <td>1.0</td>\n",
       "      <td>1.0</td>\n",
       "      <td>1.0</td>\n",
       "      <td>2.0</td>\n",
       "      <td>11.0</td>\n",
       "      <td>9.0</td>\n",
       "      <td>6</td>\n",
       "      <td>2.0</td>\n",
       "      <td>1.833333</td>\n",
       "      <td>1</td>\n",
       "    </tr>\n",
       "    <tr>\n",
       "      <th>3</th>\n",
       "      <td>0</td>\n",
       "      <td>0</td>\n",
       "      <td>0</td>\n",
       "      <td>1</td>\n",
       "      <td>0</td>\n",
       "      <td>4</td>\n",
       "      <td>3.0</td>\n",
       "      <td>1</td>\n",
       "      <td>2.0</td>\n",
       "      <td>1.0</td>\n",
       "      <td>...</td>\n",
       "      <td>1.0</td>\n",
       "      <td>1.0</td>\n",
       "      <td>1.0</td>\n",
       "      <td>4.0</td>\n",
       "      <td>11.0</td>\n",
       "      <td>9.0</td>\n",
       "      <td>6</td>\n",
       "      <td>2.0</td>\n",
       "      <td>1.833333</td>\n",
       "      <td>1</td>\n",
       "    </tr>\n",
       "    <tr>\n",
       "      <th>4</th>\n",
       "      <td>0</td>\n",
       "      <td>0</td>\n",
       "      <td>0</td>\n",
       "      <td>1</td>\n",
       "      <td>0</td>\n",
       "      <td>5</td>\n",
       "      <td>2.0</td>\n",
       "      <td>1</td>\n",
       "      <td>2.0</td>\n",
       "      <td>1.0</td>\n",
       "      <td>...</td>\n",
       "      <td>1.0</td>\n",
       "      <td>3.0</td>\n",
       "      <td>1.0</td>\n",
       "      <td>1.0</td>\n",
       "      <td>11.0</td>\n",
       "      <td>9.0</td>\n",
       "      <td>6</td>\n",
       "      <td>2.0</td>\n",
       "      <td>1.833333</td>\n",
       "      <td>1</td>\n",
       "    </tr>\n",
       "  </tbody>\n",
       "</table>\n",
       "<p>5 rows × 25 columns</p>\n",
       "</div>"
      ],
      "text/plain": [
       "   target_True  sex_0  sex_C  sex_F  sex_M  ID  Edad  Sit 1  Monto 1  Sit 2  \\\n",
       "0            0      0      0      0      1   1   1.0      1      4.0    1.0   \n",
       "1            0      0      0      0      1   2   3.0      1      3.0    1.0   \n",
       "2            0      0      0      0      1   3   2.0      1      1.0    1.0   \n",
       "3            0      0      0      1      0   4   3.0      1      2.0    1.0   \n",
       "4            0      0      0      1      0   5   2.0      1      2.0    1.0   \n",
       "\n",
       "   ...  Sit 5  Monto 5  Sit 6  Monto 6  total_monto  scoring_total  \\\n",
       "0  ...    1.0     11.0    1.0      7.0         11.0            9.0   \n",
       "1  ...    1.0      3.0    1.0      1.0         11.0            9.0   \n",
       "2  ...    1.0      1.0    1.0      2.0         11.0            9.0   \n",
       "3  ...    1.0      1.0    1.0      4.0         11.0            9.0   \n",
       "4  ...    1.0      3.0    1.0      1.0         11.0            9.0   \n",
       "\n",
       "   cantidad_de_bancos  total_scoring_promedio  monto_credito_prom  \\\n",
       "0                   6                     2.0            1.833333   \n",
       "1                   6                     2.0            1.833333   \n",
       "2                   6                     2.0            1.833333   \n",
       "3                   6                     2.0            1.833333   \n",
       "4                   6                     2.0            1.833333   \n",
       "\n",
       "   cantidad_creditos_morosos  \n",
       "0                          1  \n",
       "1                          1  \n",
       "2                          1  \n",
       "3                          1  \n",
       "4                          1  \n",
       "\n",
       "[5 rows x 25 columns]"
      ]
     },
     "execution_count": 133,
     "metadata": {},
     "output_type": "execute_result"
    }
   ],
   "source": [
    "data.head()"
   ]
  },
  {
   "cell_type": "markdown",
   "metadata": {},
   "source": [
    "Correlaciones"
   ]
  },
  {
   "cell_type": "code",
   "execution_count": 448,
   "metadata": {},
   "outputs": [
    {
     "data": {
      "image/png": "[encoded data removed]",
      "text/plain": [
       "<Figure size 1440x720 with 2 Axes>"
      ]
     },
     "metadata": {},
     "output_type": "display_data"
    }
   ],
   "source": [
    "analisis = data[['sex_F', 'sex_M', 'Edad', 'total_monto', 'target_True','scoring_total',\n",
    " 'cantidad_de_bancos',\n",
    " 'total_scoring_promedio',\n",
    " 'monto_credito_prom',\n",
    " 'cantidad_creditos_morosos',\n",
    " 'clusters']].corr()\n",
    "plt.figure(figsize=(20,10))\n",
    "#Plot the heatmap\n",
    "sns.heatmap(analisis, \n",
    "        annot = True, vmin=-1, vmax=1, center= 0,\n",
    "        xticklabels=analisis.columns,\n",
    "        yticklabels=analisis.columns);"
   ]
  },
  {
   "cell_type": "markdown",
   "metadata": {},
   "source": [
    "Composicion target"
   ]
  },
  {
   "cell_type": "code",
   "execution_count": 449,
   "metadata": {},
   "outputs": [
    {
     "data": {
      "image/png": "[encoded data removed]",
      "text/plain": [
       "<Figure size 576x396 with 1 Axes>"
      ]
     },
     "metadata": {},
     "output_type": "display_data"
    },
    {
     "data": {
      "image/png": "[encoded data removed]",
      "text/plain": [
       "<Figure size 576x396 with 1 Axes>"
      ]
     },
     "metadata": {},
     "output_type": "display_data"
    },
    {
     "data": {
      "image/png": "[encoded data removed]",
      "text/plain": [
       "<Figure size 576x396 with 1 Axes>"
      ]
     },
     "metadata": {},
     "output_type": "display_data"
    },
    {
     "data": {
      "image/png": "[encoded data removed]",
      "text/plain": [
       "<Figure size 576x396 with 1 Axes>"
      ]
     },
     "metadata": {},
     "output_type": "display_data"
    },
    {
     "data": {
      "image/png": "[encoded data removed]",
      "text/plain": [
       "<Figure size 576x396 with 1 Axes>"
      ]
     },
     "metadata": {},
     "output_type": "display_data"
    },
    {
     "data": {
      "image/png": "[encoded data removed]",
      "text/plain": [
       "<Figure size 576x396 with 1 Axes>"
      ]
     },
     "metadata": {},
     "output_type": "display_data"
    },
    {
     "data": {
      "image/png": "[encoded data removed]",
      "text/plain": [
       "<Figure size 576x396 with 1 Axes>"
      ]
     },
     "metadata": {},
     "output_type": "display_data"
    },
    {
     "data": {
      "image/png": "[encoded data removed]",
      "text/plain": [
       "<Figure size 576x396 with 1 Axes>"
      ]
     },
     "metadata": {},
     "output_type": "display_data"
    }
   ],
   "source": [
    "plot = pd.crosstab(index=data['total_scoring_promedio'],\n",
    "            columns=data['target_True']\n",
    "                  ).apply(lambda r: r/r.sum() *100,\n",
    "                          axis=0).plot(kind='bar', stacked=True)\n",
    "\n",
    "plot = pd.crosstab(index=data['cantidad_de_bancos'],\n",
    "            columns=data['target_True']\n",
    "                  ).apply(lambda r: r/r.sum() *100,\n",
    "                          axis=0).plot(kind='bar', stacked=True)\n",
    "\n",
    "plot = pd.crosstab(index=data['cantidad_creditos_morosos'],\n",
    "            columns=data['target_True']\n",
    "                  ).apply(lambda r: r/r.sum() *100,\n",
    "                          axis=0).plot(kind='bar', stacked=True)\n",
    "plot = pd.crosstab(index=data['clusters'],\n",
    "            columns=data['target_True']\n",
    "                  ).apply(lambda r: r/r.sum() *100,\n",
    "                          axis=0).plot(kind='bar', stacked=True)\n",
    "\n",
    "plot = pd.crosstab(index=data['clusters'],\n",
    "            columns=data['target_True']\n",
    "                  ).apply(lambda r: r/r.sum() *100,\n",
    "                          axis=0).plot(kind='bar', stacked=True)\n",
    "\n",
    "plot = pd.crosstab(index=data['sex_F'],\n",
    "            columns=data['target_True']\n",
    "                  ).apply(lambda r: r/r.sum() *100,\n",
    "                          axis=0).plot(kind='bar', stacked=True)\n",
    "\n",
    "plot = pd.crosstab(index=data['Edad'],\n",
    "            columns=data['target_True']\n",
    "                  ).apply(lambda r: r/r.sum() *100,\n",
    "                          axis=0).plot(kind='bar', stacked=True)\n",
    "\n",
    "plot = pd.crosstab(index=data['total_monto'],\n",
    "            columns=data['target_True']\n",
    "                  ).apply(lambda r: r/r.sum() *100,\n",
    "                          axis=0).plot(kind='bar', stacked=True)"
   ]
  },
  {
   "cell_type": "markdown",
   "metadata": {},
   "source": [
    "Modelos clasificacion"
   ]
  },
  {
   "cell_type": "code",
   "execution_count": 451,
   "metadata": {},
   "outputs": [],
   "source": [
    "X=data.drop(['target_True','monto_credito_prom','cantidad_creditos_morosos'], axis=1)\n",
    "y=data['target_True']"
   ]
  },
  {
   "cell_type": "code",
   "execution_count": 452,
   "metadata": {},
   "outputs": [],
   "source": [
    "X_train, X_test, y_train, y_test = train_test_split(X, y, train_size=0.7)"
   ]
  },
  {
   "cell_type": "code",
   "execution_count": 453,
   "metadata": {},
   "outputs": [],
   "source": [
    "from sklearn.utils import resample"
   ]
  },
  {
   "cell_type": "code",
   "execution_count": 454,
   "metadata": {},
   "outputs": [
    {
     "data": {
      "text/plain": [
       "1    31789\n",
       "0    31789\n",
       "Name: target_True, dtype: int64"
      ]
     },
     "execution_count": 454,
     "metadata": {},
     "output_type": "execute_result"
    }
   ],
   "source": [
    "#combine them back for resampling\n",
    "train_data = pd.concat([X_train, y_train], axis=1)# separate minority and majority classes\n",
    "negative = train_data[train_data.target_True==0]\n",
    "positive = train_data[train_data.target_True==1]# upsample minority\n",
    "pos_upsampled = resample(positive,\n",
    "     replace=True, # sample with replacement\n",
    "     n_samples=len(negative), # match number in majority class\n",
    "     random_state=27) # reproducible results# combine majority and upsampled minority\n",
    "upsampled = pd.concat([negative, pos_upsampled])# check new class counts\n",
    "upsampled.target_True.value_counts()"
   ]
  },
  {
   "cell_type": "code",
   "execution_count": 455,
   "metadata": {},
   "outputs": [],
   "source": [
    "X_train = upsampled.drop(columns='target_True')"
   ]
  },
  {
   "cell_type": "code",
   "execution_count": 456,
   "metadata": {},
   "outputs": [],
   "source": [
    "y_train = upsampled['target_True']"
   ]
  },
  {
   "cell_type": "code",
   "execution_count": 457,
   "metadata": {},
   "outputs": [],
   "source": [
    "data = data['target_True'].value_counts()"
   ]
  },
  {
   "cell_type": "markdown",
   "metadata": {},
   "source": [
    "Randon fores"
   ]
  },
  {
   "cell_type": "code",
   "execution_count": 466,
   "metadata": {},
   "outputs": [],
   "source": [
    "#train test split\n",
    "from sklearn.model_selection import train_test_split\n",
    "X_train, X_test, y_train, y_test = train_test_split(X,y, test_size = 0.20, stratify=y, random_state = 12)"
   ]
  },
  {
   "cell_type": "code",
   "execution_count": 467,
   "metadata": {},
   "outputs": [],
   "source": [
    "#importo el modelo\n",
    "from sklearn.ensemble import RandomForestClassifier"
   ]
  },
  {
   "cell_type": "code",
   "execution_count": 468,
   "metadata": {},
   "outputs": [
    {
     "name": "stdout",
     "output_type": "stream",
     "text": [
      "accuracy:  0.9920036906043365\n"
     ]
    }
   ],
   "source": [
    "#entreno una primer variante de modelo con 100 árboles de decisión y obtengo el accuracy\n",
    "rf = RandomForestClassifier(n_estimators = 100, max_depth=None, random_state=42, n_jobs=-1)\n",
    "rf.fit(X_train,y_train)\n",
    "print(\"accuracy: \",rf.score(X_test,y_test))"
   ]
  },
  {
   "cell_type": "code",
   "execution_count": 469,
   "metadata": {},
   "outputs": [
    {
     "name": "stdout",
     "output_type": "stream",
     "text": [
      "accuracy:  0.9924650161463939\n"
     ]
    }
   ],
   "source": [
    "#entreno una segunda variante con más cantidad de árboles para intentar mejorar el accuracy\n",
    "rf = RandomForestClassifier(n_estimators = 1000, max_depth=None, random_state=42, n_jobs=-1)\n",
    "rf.fit(X_train,y_train)\n",
    "print(\"accuracy: \",rf.score(X_test,y_test))"
   ]
  },
  {
   "cell_type": "code",
   "execution_count": 470,
   "metadata": {},
   "outputs": [
    {
     "data": {
      "text/html": [
       "<div>\n",
       "<style scoped>\n",
       "    .dataframe tbody tr th:only-of-type {\n",
       "        vertical-align: middle;\n",
       "    }\n",
       "\n",
       "    .dataframe tbody tr th {\n",
       "        vertical-align: top;\n",
       "    }\n",
       "\n",
       "    .dataframe thead th {\n",
       "        text-align: right;\n",
       "    }\n",
       "</style>\n",
       "<table border=\"1\" class=\"dataframe\">\n",
       "  <thead>\n",
       "    <tr style=\"text-align: right;\">\n",
       "      <th></th>\n",
       "      <th>importancia_relativa</th>\n",
       "    </tr>\n",
       "  </thead>\n",
       "  <tbody>\n",
       "    <tr>\n",
       "      <th>total_monto</th>\n",
       "      <td>0.258247</td>\n",
       "    </tr>\n",
       "    <tr>\n",
       "      <th>Monto 1</th>\n",
       "      <td>0.201227</td>\n",
       "    </tr>\n",
       "    <tr>\n",
       "      <th>Monto 2</th>\n",
       "      <td>0.089343</td>\n",
       "    </tr>\n",
       "    <tr>\n",
       "      <th>Sit 1</th>\n",
       "      <td>0.066981</td>\n",
       "    </tr>\n",
       "    <tr>\n",
       "      <th>scoring_total</th>\n",
       "      <td>0.064510</td>\n",
       "    </tr>\n",
       "    <tr>\n",
       "      <th>Sit 2</th>\n",
       "      <td>0.053580</td>\n",
       "    </tr>\n",
       "    <tr>\n",
       "      <th>ID</th>\n",
       "      <td>0.045974</td>\n",
       "    </tr>\n",
       "    <tr>\n",
       "      <th>Monto 3</th>\n",
       "      <td>0.044619</td>\n",
       "    </tr>\n",
       "    <tr>\n",
       "      <th>total_scoring_promedio</th>\n",
       "      <td>0.037189</td>\n",
       "    </tr>\n",
       "    <tr>\n",
       "      <th>Sit 3</th>\n",
       "      <td>0.034523</td>\n",
       "    </tr>\n",
       "    <tr>\n",
       "      <th>cantidad_de_bancos</th>\n",
       "      <td>0.024324</td>\n",
       "    </tr>\n",
       "    <tr>\n",
       "      <th>Monto 4</th>\n",
       "      <td>0.022452</td>\n",
       "    </tr>\n",
       "    <tr>\n",
       "      <th>Sit 4</th>\n",
       "      <td>0.016932</td>\n",
       "    </tr>\n",
       "    <tr>\n",
       "      <th>Monto 5</th>\n",
       "      <td>0.009781</td>\n",
       "    </tr>\n",
       "    <tr>\n",
       "      <th>Sit 5</th>\n",
       "      <td>0.007679</td>\n",
       "    </tr>\n",
       "    <tr>\n",
       "      <th>clusters</th>\n",
       "      <td>0.007319</td>\n",
       "    </tr>\n",
       "    <tr>\n",
       "      <th>Edad</th>\n",
       "      <td>0.004648</td>\n",
       "    </tr>\n",
       "    <tr>\n",
       "      <th>Monto 6</th>\n",
       "      <td>0.004277</td>\n",
       "    </tr>\n",
       "    <tr>\n",
       "      <th>Sit 6</th>\n",
       "      <td>0.002748</td>\n",
       "    </tr>\n",
       "    <tr>\n",
       "      <th>sex_F</th>\n",
       "      <td>0.001879</td>\n",
       "    </tr>\n",
       "    <tr>\n",
       "      <th>sex_M</th>\n",
       "      <td>0.001740</td>\n",
       "    </tr>\n",
       "    <tr>\n",
       "      <th>sex_C</th>\n",
       "      <td>0.000026</td>\n",
       "    </tr>\n",
       "    <tr>\n",
       "      <th>sex_0</th>\n",
       "      <td>0.000004</td>\n",
       "    </tr>\n",
       "  </tbody>\n",
       "</table>\n",
       "</div>"
      ],
      "text/plain": [
       "                        importancia_relativa\n",
       "total_monto                         0.258247\n",
       "Monto 1                             0.201227\n",
       "Monto 2                             0.089343\n",
       "Sit 1                               0.066981\n",
       "scoring_total                       0.064510\n",
       "Sit 2                               0.053580\n",
       "ID                                  0.045974\n",
       "Monto 3                             0.044619\n",
       "total_scoring_promedio              0.037189\n",
       "Sit 3                               0.034523\n",
       "cantidad_de_bancos                  0.024324\n",
       "Monto 4                             0.022452\n",
       "Sit 4                               0.016932\n",
       "Monto 5                             0.009781\n",
       "Sit 5                               0.007679\n",
       "clusters                            0.007319\n",
       "Edad                                0.004648\n",
       "Monto 6                             0.004277\n",
       "Sit 6                               0.002748\n",
       "sex_F                               0.001879\n",
       "sex_M                               0.001740\n",
       "sex_C                               0.000026\n",
       "sex_0                               0.000004"
      ]
     },
     "execution_count": 470,
     "metadata": {},
     "output_type": "execute_result"
    }
   ],
   "source": [
    "#imprimo las features que el modelo clasificó como más importantes o las 'mejor predictoras' (solo las primeras 10)\n",
    "feature_importances = pd.DataFrame(rf.feature_importances_,\n",
    "                                   index = X_train.columns,\n",
    "                                    columns=['importancia_relativa']).sort_values('importancia_relativa',ascending=False)\n",
    "feature_importances.head(25)"
   ]
  },
  {
   "cell_type": "code",
   "execution_count": 471,
   "metadata": {},
   "outputs": [],
   "source": [
    "#función para graficar la matriz de confusión\n",
    "from sklearn.metrics import confusion_matrix\n",
    "import seaborn as sns\n",
    "\n",
    "def confusion(y_test,y_pred):\n",
    "    names=[\"Buen desempeño\",\"Mal desempeño\"]\n",
    "    cm=confusion_matrix(y_test,y_pred)\n",
    "    f,ax=plt.subplots(figsize=(5,5))\n",
    "    sns.heatmap(cm,annot=True,linewidth=.5,linecolor=\"r\",fmt=\".0f\",ax=ax)\n",
    "    plt.xlabel(\"y_pred\")\n",
    "    plt.ylabel(\"y_true\")\n",
    "    ax.set_xticklabels(names)\n",
    "    ax.set_yticklabels(names)\n",
    "    plt.show()\n",
    "\n",
    "    return"
   ]
  },
  {
   "cell_type": "code",
   "execution_count": 472,
   "metadata": {},
   "outputs": [
    {
     "data": {
      "image/png": "[encoded data removed]",
      "text/plain": [
       "<Figure size 360x360 with 2 Axes>"
      ]
     },
     "metadata": {},
     "output_type": "display_data"
    }
   ],
   "source": [
    "#realizo predicciones y grafico la matriz de confusión\n",
    "y_pred=rf.predict(X_test)\n",
    "confusion(y_test,y_pred)"
   ]
  },
  {
   "cell_type": "markdown",
   "metadata": {},
   "source": [
    "Entrenamiento modelo: XGB Classifier"
   ]
  },
  {
   "cell_type": "code",
   "execution_count": 473,
   "metadata": {},
   "outputs": [],
   "source": [
    "#Imports para entrenamiento, predicción y evaluación del modelo\n",
    "import xgboost as xgb"
   ]
  },
  {
   "cell_type": "code",
   "execution_count": 474,
   "metadata": {},
   "outputs": [
    {
     "name": "stdout",
     "output_type": "stream",
     "text": [
      "accuracy:  0.9963093956635399\n"
     ]
    }
   ],
   "source": [
    "xgb_model = xgb.XGBClassifier()\n",
    "xgb_model.fit(X_train,y_train)\n",
    "print(\"accuracy: \",xgb_model.score(X_test,y_test))"
   ]
  },
  {
   "cell_type": "code",
   "execution_count": 475,
   "metadata": {},
   "outputs": [
    {
     "data": {
      "text/html": [
       "<div>\n",
       "<style scoped>\n",
       "    .dataframe tbody tr th:only-of-type {\n",
       "        vertical-align: middle;\n",
       "    }\n",
       "\n",
       "    .dataframe tbody tr th {\n",
       "        vertical-align: top;\n",
       "    }\n",
       "\n",
       "    .dataframe thead th {\n",
       "        text-align: right;\n",
       "    }\n",
       "</style>\n",
       "<table border=\"1\" class=\"dataframe\">\n",
       "  <thead>\n",
       "    <tr style=\"text-align: right;\">\n",
       "      <th></th>\n",
       "      <th>importancia_relativa</th>\n",
       "    </tr>\n",
       "  </thead>\n",
       "  <tbody>\n",
       "    <tr>\n",
       "      <th>total_scoring_promedio</th>\n",
       "      <td>0.366491</td>\n",
       "    </tr>\n",
       "    <tr>\n",
       "      <th>total_monto</th>\n",
       "      <td>0.331374</td>\n",
       "    </tr>\n",
       "    <tr>\n",
       "      <th>Monto 1</th>\n",
       "      <td>0.074992</td>\n",
       "    </tr>\n",
       "    <tr>\n",
       "      <th>Sit 2</th>\n",
       "      <td>0.060851</td>\n",
       "    </tr>\n",
       "    <tr>\n",
       "      <th>Sit 1</th>\n",
       "      <td>0.047654</td>\n",
       "    </tr>\n",
       "    <tr>\n",
       "      <th>Sit 3</th>\n",
       "      <td>0.043616</td>\n",
       "    </tr>\n",
       "    <tr>\n",
       "      <th>Sit 4</th>\n",
       "      <td>0.016550</td>\n",
       "    </tr>\n",
       "    <tr>\n",
       "      <th>scoring_total</th>\n",
       "      <td>0.010691</td>\n",
       "    </tr>\n",
       "    <tr>\n",
       "      <th>Monto 2</th>\n",
       "      <td>0.010076</td>\n",
       "    </tr>\n",
       "    <tr>\n",
       "      <th>Sit 5</th>\n",
       "      <td>0.007989</td>\n",
       "    </tr>\n",
       "    <tr>\n",
       "      <th>Monto 3</th>\n",
       "      <td>0.006134</td>\n",
       "    </tr>\n",
       "    <tr>\n",
       "      <th>Monto 4</th>\n",
       "      <td>0.005526</td>\n",
       "    </tr>\n",
       "    <tr>\n",
       "      <th>Monto 5</th>\n",
       "      <td>0.004726</td>\n",
       "    </tr>\n",
       "    <tr>\n",
       "      <th>ID</th>\n",
       "      <td>0.004027</td>\n",
       "    </tr>\n",
       "    <tr>\n",
       "      <th>Monto 6</th>\n",
       "      <td>0.003457</td>\n",
       "    </tr>\n",
       "    <tr>\n",
       "      <th>clusters</th>\n",
       "      <td>0.002393</td>\n",
       "    </tr>\n",
       "    <tr>\n",
       "      <th>Sit 6</th>\n",
       "      <td>0.002040</td>\n",
       "    </tr>\n",
       "    <tr>\n",
       "      <th>Edad</th>\n",
       "      <td>0.000587</td>\n",
       "    </tr>\n",
       "    <tr>\n",
       "      <th>sex_M</th>\n",
       "      <td>0.000507</td>\n",
       "    </tr>\n",
       "    <tr>\n",
       "      <th>sex_F</th>\n",
       "      <td>0.000322</td>\n",
       "    </tr>\n",
       "    <tr>\n",
       "      <th>sex_C</th>\n",
       "      <td>0.000000</td>\n",
       "    </tr>\n",
       "    <tr>\n",
       "      <th>cantidad_de_bancos</th>\n",
       "      <td>0.000000</td>\n",
       "    </tr>\n",
       "    <tr>\n",
       "      <th>sex_0</th>\n",
       "      <td>0.000000</td>\n",
       "    </tr>\n",
       "  </tbody>\n",
       "</table>\n",
       "</div>"
      ],
      "text/plain": [
       "                        importancia_relativa\n",
       "total_scoring_promedio              0.366491\n",
       "total_monto                         0.331374\n",
       "Monto 1                             0.074992\n",
       "Sit 2                               0.060851\n",
       "Sit 1                               0.047654\n",
       "Sit 3                               0.043616\n",
       "Sit 4                               0.016550\n",
       "scoring_total                       0.010691\n",
       "Monto 2                             0.010076\n",
       "Sit 5                               0.007989\n",
       "Monto 3                             0.006134\n",
       "Monto 4                             0.005526\n",
       "Monto 5                             0.004726\n",
       "ID                                  0.004027\n",
       "Monto 6                             0.003457\n",
       "clusters                            0.002393\n",
       "Sit 6                               0.002040\n",
       "Edad                                0.000587\n",
       "sex_M                               0.000507\n",
       "sex_F                               0.000322\n",
       "sex_C                               0.000000\n",
       "cantidad_de_bancos                  0.000000\n",
       "sex_0                               0.000000"
      ]
     },
     "execution_count": 475,
     "metadata": {},
     "output_type": "execute_result"
    }
   ],
   "source": [
    "feature_importances = pd.DataFrame(xgb_model.feature_importances_,\n",
    "                                   index = X_train.columns,\n",
    "                                    columns=['importancia_relativa']).sort_values('importancia_relativa',ascending=False)\n",
    "feature_importances.head(25)"
   ]
  },
  {
   "cell_type": "code",
   "execution_count": 538,
   "metadata": {},
   "outputs": [],
   "source": [
    "data.loc[data['target_True']==0, 'target_True'] = 'no moroso'\n",
    "data.loc[data['target_True']==1, 'target_True'] = 'moroso'"
   ]
  },
  {
   "cell_type": "code",
   "execution_count": 539,
   "metadata": {},
   "outputs": [],
   "source": [
    "data.to_csv(\"C:/Users/Ariel Fleiderman/Downloads/CLUSTER CREDITO1.csv\")"
   ]
  },
  {
   "cell_type": "code",
   "execution_count": 540,
   "metadata": {
    "scrolled": false
   },
   "outputs": [
    {
     "data": {
      "text/html": [
       "<div>\n",
       "<style scoped>\n",
       "    .dataframe tbody tr th:only-of-type {\n",
       "        vertical-align: middle;\n",
       "    }\n",
       "\n",
       "    .dataframe tbody tr th {\n",
       "        vertical-align: top;\n",
       "    }\n",
       "\n",
       "    .dataframe thead th {\n",
       "        text-align: right;\n",
       "    }\n",
       "</style>\n",
       "<table border=\"1\" class=\"dataframe\">\n",
       "  <thead>\n",
       "    <tr style=\"text-align: right;\">\n",
       "      <th></th>\n",
       "      <th>target_True</th>\n",
       "      <th>sex_0</th>\n",
       "      <th>sex_C</th>\n",
       "      <th>sex_F</th>\n",
       "      <th>sex_M</th>\n",
       "      <th>ID</th>\n",
       "      <th>Edad</th>\n",
       "      <th>Sit 1</th>\n",
       "      <th>Monto 1</th>\n",
       "      <th>Sit 2</th>\n",
       "      <th>...</th>\n",
       "      <th>Monto 5</th>\n",
       "      <th>Sit 6</th>\n",
       "      <th>Monto 6</th>\n",
       "      <th>total_monto</th>\n",
       "      <th>scoring_total</th>\n",
       "      <th>cantidad_de_bancos</th>\n",
       "      <th>total_scoring_promedio</th>\n",
       "      <th>monto_credito_prom</th>\n",
       "      <th>cantidad_creditos_morosos</th>\n",
       "      <th>clusters</th>\n",
       "    </tr>\n",
       "  </thead>\n",
       "  <tbody>\n",
       "    <tr>\n",
       "      <th>0</th>\n",
       "      <td>moroso</td>\n",
       "      <td>0</td>\n",
       "      <td>0</td>\n",
       "      <td>0</td>\n",
       "      <td>1</td>\n",
       "      <td>1</td>\n",
       "      <td>1.0</td>\n",
       "      <td>1</td>\n",
       "      <td>4.0</td>\n",
       "      <td>1.0</td>\n",
       "      <td>...</td>\n",
       "      <td>11.0</td>\n",
       "      <td>1.0</td>\n",
       "      <td>7.0</td>\n",
       "      <td>11.0</td>\n",
       "      <td>9.0</td>\n",
       "      <td>6</td>\n",
       "      <td>2.0</td>\n",
       "      <td>5.0</td>\n",
       "      <td>1</td>\n",
       "      <td>0</td>\n",
       "    </tr>\n",
       "    <tr>\n",
       "      <th>1</th>\n",
       "      <td>moroso</td>\n",
       "      <td>0</td>\n",
       "      <td>0</td>\n",
       "      <td>0</td>\n",
       "      <td>1</td>\n",
       "      <td>2</td>\n",
       "      <td>3.0</td>\n",
       "      <td>1</td>\n",
       "      <td>3.0</td>\n",
       "      <td>1.0</td>\n",
       "      <td>...</td>\n",
       "      <td>3.0</td>\n",
       "      <td>1.0</td>\n",
       "      <td>1.0</td>\n",
       "      <td>11.0</td>\n",
       "      <td>9.0</td>\n",
       "      <td>6</td>\n",
       "      <td>2.0</td>\n",
       "      <td>4.0</td>\n",
       "      <td>1</td>\n",
       "      <td>0</td>\n",
       "    </tr>\n",
       "    <tr>\n",
       "      <th>2</th>\n",
       "      <td>no moroso</td>\n",
       "      <td>0</td>\n",
       "      <td>0</td>\n",
       "      <td>0</td>\n",
       "      <td>1</td>\n",
       "      <td>3</td>\n",
       "      <td>2.0</td>\n",
       "      <td>1</td>\n",
       "      <td>1.0</td>\n",
       "      <td>1.0</td>\n",
       "      <td>...</td>\n",
       "      <td>1.0</td>\n",
       "      <td>1.0</td>\n",
       "      <td>2.0</td>\n",
       "      <td>11.0</td>\n",
       "      <td>9.0</td>\n",
       "      <td>6</td>\n",
       "      <td>2.0</td>\n",
       "      <td>3.0</td>\n",
       "      <td>1</td>\n",
       "      <td>0</td>\n",
       "    </tr>\n",
       "    <tr>\n",
       "      <th>3</th>\n",
       "      <td>no moroso</td>\n",
       "      <td>0</td>\n",
       "      <td>0</td>\n",
       "      <td>1</td>\n",
       "      <td>0</td>\n",
       "      <td>4</td>\n",
       "      <td>3.0</td>\n",
       "      <td>1</td>\n",
       "      <td>2.0</td>\n",
       "      <td>1.0</td>\n",
       "      <td>...</td>\n",
       "      <td>1.0</td>\n",
       "      <td>1.0</td>\n",
       "      <td>4.0</td>\n",
       "      <td>11.0</td>\n",
       "      <td>9.0</td>\n",
       "      <td>6</td>\n",
       "      <td>2.0</td>\n",
       "      <td>3.0</td>\n",
       "      <td>1</td>\n",
       "      <td>0</td>\n",
       "    </tr>\n",
       "    <tr>\n",
       "      <th>4</th>\n",
       "      <td>no moroso</td>\n",
       "      <td>0</td>\n",
       "      <td>0</td>\n",
       "      <td>1</td>\n",
       "      <td>0</td>\n",
       "      <td>5</td>\n",
       "      <td>2.0</td>\n",
       "      <td>1</td>\n",
       "      <td>2.0</td>\n",
       "      <td>1.0</td>\n",
       "      <td>...</td>\n",
       "      <td>3.0</td>\n",
       "      <td>1.0</td>\n",
       "      <td>1.0</td>\n",
       "      <td>11.0</td>\n",
       "      <td>9.0</td>\n",
       "      <td>6</td>\n",
       "      <td>2.0</td>\n",
       "      <td>3.0</td>\n",
       "      <td>1</td>\n",
       "      <td>0</td>\n",
       "    </tr>\n",
       "  </tbody>\n",
       "</table>\n",
       "<p>5 rows × 26 columns</p>\n",
       "</div>"
      ],
      "text/plain": [
       "  target_True  sex_0  sex_C  sex_F  sex_M  ID  Edad  Sit 1  Monto 1  Sit 2  \\\n",
       "0      moroso      0      0      0      1   1   1.0      1      4.0    1.0   \n",
       "1      moroso      0      0      0      1   2   3.0      1      3.0    1.0   \n",
       "2   no moroso      0      0      0      1   3   2.0      1      1.0    1.0   \n",
       "3   no moroso      0      0      1      0   4   3.0      1      2.0    1.0   \n",
       "4   no moroso      0      0      1      0   5   2.0      1      2.0    1.0   \n",
       "\n",
       "   ...  Monto 5  Sit 6  Monto 6  total_monto  scoring_total  \\\n",
       "0  ...     11.0    1.0      7.0         11.0            9.0   \n",
       "1  ...      3.0    1.0      1.0         11.0            9.0   \n",
       "2  ...      1.0    1.0      2.0         11.0            9.0   \n",
       "3  ...      1.0    1.0      4.0         11.0            9.0   \n",
       "4  ...      3.0    1.0      1.0         11.0            9.0   \n",
       "\n",
       "   cantidad_de_bancos  total_scoring_promedio  monto_credito_prom  \\\n",
       "0                   6                     2.0                 5.0   \n",
       "1                   6                     2.0                 4.0   \n",
       "2                   6                     2.0                 3.0   \n",
       "3                   6                     2.0                 3.0   \n",
       "4                   6                     2.0                 3.0   \n",
       "\n",
       "   cantidad_creditos_morosos  clusters  \n",
       "0                          1         0  \n",
       "1                          1         0  \n",
       "2                          1         0  \n",
       "3                          1         0  \n",
       "4                          1         0  \n",
       "\n",
       "[5 rows x 26 columns]"
      ]
     },
     "execution_count": 540,
     "metadata": {},
     "output_type": "execute_result"
    }
   ],
   "source": [
    "data.head()"
   ]
  },
  {
   "cell_type": "markdown",
   "metadata": {},
   "source": [
    "regresion logistica"
   ]
  },
  {
   "cell_type": "markdown",
   "metadata": {},
   "source": [
    "https://github.com/brunokatekawa/credit_risk/blob/master/Credit_Risk.ipynb"
   ]
  },
  {
   "cell_type": "code",
   "execution_count": null,
   "metadata": {},
   "outputs": [],
   "source": []
  },
  {
   "cell_type": "code",
   "execution_count": null,
   "metadata": {},
   "outputs": [],
   "source": []
  },
  {
   "cell_type": "code",
   "execution_count": null,
   "metadata": {},
   "outputs": [],
   "source": []
  }
 ],
 "metadata": {
  "kernelspec": {
   "display_name": "Python 3",
   "language": "python",
   "name": "python3"
  },
  "language_info": {
   "codemirror_mode": {
    "name": "ipython",
    "version": 3
   },
   "file_extension": ".py",
   "mimetype": "text/x-python",
   "name": "python",
   "nbconvert_exporter": "python",
   "pygments_lexer": "ipython3",
   "version": "3.7.6"
  }
 },
 "nbformat": 4,
 "nbformat_minor": 4
}
